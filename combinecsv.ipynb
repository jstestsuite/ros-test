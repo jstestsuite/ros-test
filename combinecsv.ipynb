{
 "cells": [
  {
   "cell_type": "code",
   "execution_count": 1,
   "metadata": {},
   "outputs": [],
   "source": [
    "###### SET UP FOR CMD_VEL ##########\n",
    "###### Maybe try throttled data so its all at 5 hz?\n",
    "\n",
    "#        http://wiki.ros.org/topic_tools/throttle\n",
    "\n",
    "import tensorflow as tf\n",
    "import csv\n",
    "\n",
    "time = 554.612"
   ]
  },
  {
   "cell_type": "code",
   "execution_count": 2,
   "metadata": {},
   "outputs": [],
   "source": [
    "#Ros time stamp = 11 digits with 0-99 seconds 12 digits with 100-999 seconds \n",
    "new_rows = []\n",
    "\n",
    "with open('data1.csv', 'rb') as f:\n",
    "    reader = csv.reader(f)\n",
    "    nrow = next(reader)\n",
    "    new_row =  nrow\n",
    "    \n",
    "    new_rows.append(new_row)\n",
    "    #nrow = next(reader)\n",
    "    for row in reader:\n",
    "        # row is a list of strings\n",
    "        # use string.join to put them together\n",
    "        \n",
    "        # row 0 = time\n",
    "        # row 2 = linear x  row 11 for x, row 12 for y, 17 for z orientation\n",
    "        # row 3 = angular z\n",
    "        \n",
    "\n",
    "        \n",
    "        new_rows.append(row)\n",
    "        \n",
    "       \n",
    "\n"
   ]
  },
  {
   "cell_type": "code",
   "execution_count": 3,
   "metadata": {},
   "outputs": [],
   "source": [
    "with open('data2.csv', 'rb') as f:\n",
    "    reader = csv.reader(f)\n",
    "    nrow = next(reader)\n",
    "    new_row =  nrow\n",
    "    \n",
    "    \n",
    "    #nrow = next(reader)\n",
    "    for row in reader:\n",
    "        # row is a list of strings\n",
    "        # use string.join to put them together\n",
    "        \n",
    "        # row 0 = time\n",
    "        # row 2 = linear x  row 11 for x, row 12 for y, 17 for z orientation\n",
    "        # row 3 = angular z\n",
    "        \n",
    "\n",
    "        \n",
    "        new_rows.append(row)\n",
    "        \n",
    "       \n",
    "\n",
    "\n",
    "       \n",
    "\n",
    "with open('data3.csv', 'rb') as f:\n",
    "    reader = csv.reader(f)\n",
    "    nrow = next(reader)\n",
    "    new_row =  nrow\n",
    "    \n",
    "    \n",
    "    #nrow = next(reader)\n",
    "    for row in reader:\n",
    "        # row is a list of strings\n",
    "        # use string.join to put them together\n",
    "        \n",
    "        # row 0 = time\n",
    "        # row 2 = linear x  row 11 for x, row 12 for y, 17 for z orientation\n",
    "        # row 3 = angular z\n",
    "        \n",
    "\n",
    "        \n",
    "        new_rows.append(row)\n",
    "        \n",
    "       \n",
    "\n",
    "with open('data4.csv', 'rb') as f:\n",
    "    reader = csv.reader(f)\n",
    "    nrow = next(reader)\n",
    "    new_row =  nrow\n",
    "    \n",
    "    \n",
    "    #nrow = next(reader)\n",
    "    for row in reader:\n",
    "        # row is a list of strings\n",
    "        # use string.join to put them together\n",
    "        \n",
    "        # row 0 = time\n",
    "        # row 2 = linear x  row 11 for x, row 12 for y, 17 for z orientation\n",
    "        # row 3 = angular z\n",
    "        \n",
    "\n",
    "        \n",
    "        new_rows.append(row)\n",
    "        \n",
    "       \n",
    "\n",
    "\n",
    "       \n",
    "\n",
    "\n",
    "       \n",
    "\n",
    "\n",
    "\n",
    "\n",
    "\n",
    "\n"
   ]
  },
  {
   "cell_type": "code",
   "execution_count": null,
   "metadata": {},
   "outputs": [],
   "source": []
  },
  {
   "cell_type": "code",
   "execution_count": null,
   "metadata": {},
   "outputs": [],
   "source": []
  },
  {
   "cell_type": "code",
   "execution_count": null,
   "metadata": {},
   "outputs": [],
   "source": [
    "#newnew = [[new_rows], [new_rows2[1:]]]\n",
    "x = 0\n",
    "goal_count = 1\n",
    "new_rows[0].extend(new_rows2[0])\n",
    "new_rows[0].extend(new_rows3[0])\n",
    "temp = new_rows3[1]\n",
    "for x in range(1, len(new_rows)):\n",
    "    new_rows[x].extend(new_rows2[x])\n",
    "    if (goal_count < 6):\n",
    "        if(new_rows3[goal_count+1][0]<= new_rows[x][0]):\n",
    "        \n",
    "            goal_count=goal_count+1\n",
    "            temp = new_rows3[goal_count]\n",
    "    new_rows[x].extend(temp)\n",
    "    "
   ]
  },
  {
   "cell_type": "code",
   "execution_count": null,
   "metadata": {},
   "outputs": [],
   "source": [
    "len(new_rows2)\n"
   ]
  },
  {
   "cell_type": "code",
   "execution_count": null,
   "metadata": {},
   "outputs": [],
   "source": [
    "x = 1\n",
    "count = 0\n",
    "counts = []\n",
    "for row in new_rows:\n",
    "    \n",
    "    if row[0] <x:\n",
    "        count= count +1\n",
    "        if count >= 9:\n",
    "            print row\n",
    "    else:\n",
    "\n",
    "        counts.append(count)\n",
    "        count = 1\n",
    "        if count >= 4:\n",
    "            print row\n",
    "        x=x+1\n",
    "    #grab first, last, 2nd, 2nd last, 3rd?\n",
    "41 29 32"
   ]
  },
  {
   "cell_type": "code",
   "execution_count": 4,
   "metadata": {},
   "outputs": [],
   "source": [
    "#start at 0, grab all values... until new_rows[x][0] >1\n",
    "#count, just drop odd or something assuming over 5?\n",
    "\n",
    "\n",
    "############ This file is only good for 200 seconds then there is a problem with the data\n",
    "\n",
    "with open('test.csv', 'wb') as f:\n",
    "    # Overwrite the old file with the modified rows\n",
    "    writer = csv.writer(f)\n",
    "    writer.writerows(new_rows)"
   ]
  },
  {
   "cell_type": "code",
   "execution_count": null,
   "metadata": {},
   "outputs": [],
   "source": [
    "\n",
    "counts\n"
   ]
  },
  {
   "cell_type": "code",
   "execution_count": null,
   "metadata": {},
   "outputs": [],
   "source": [
    "print new_rows[2]"
   ]
  },
  {
   "cell_type": "code",
   "execution_count": null,
   "metadata": {},
   "outputs": [],
   "source": []
  },
  {
   "cell_type": "code",
   "execution_count": null,
   "metadata": {},
   "outputs": [],
   "source": []
  },
  {
   "cell_type": "code",
   "execution_count": null,
   "metadata": {},
   "outputs": [],
   "source": []
  },
  {
   "cell_type": "code",
   "execution_count": null,
   "metadata": {},
   "outputs": [],
   "source": []
  }
 ],
 "metadata": {
  "kernelspec": {
   "display_name": "Python 2",
   "language": "python",
   "name": "python2"
  },
  "language_info": {
   "codemirror_mode": {
    "name": "ipython",
    "version": 2
   },
   "file_extension": ".py",
   "mimetype": "text/x-python",
   "name": "python",
   "nbconvert_exporter": "python",
   "pygments_lexer": "ipython2",
   "version": "2.7.15rc1"
  }
 },
 "nbformat": 4,
 "nbformat_minor": 2
}
