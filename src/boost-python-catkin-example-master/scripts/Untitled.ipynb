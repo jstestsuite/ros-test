{
 "cells": [
  {
   "cell_type": "code",
   "execution_count": 1,
   "metadata": {},
   "outputs": [],
   "source": [
    "# -*- coding: utf-8 -*-\n",
    "import boost_python_catkin_example.mycpplib as cpp\n",
    "import rospy\n",
    "import tensorflow as tf\n",
    "from nav_msgs.msg import Odometry\n",
    "from move_base_msgs.msg import *\n",
    "from geometry_msgs.msg import Twist\n",
    "import math\n",
    "from tensorflow import keras\n",
    "import numpy as np\n",
    "\n",
    "#allows starting a roscpp node from python\n",
    "from moveit_ros_planning_interface._moveit_roscpp_initializer import roscpp_init\n",
    "roscpp_init('node_name', [])\n",
    "\n",
    "\n",
    "vel_msg = Twist()\n",
    "\n"
   ]
  },
  {
   "cell_type": "code",
   "execution_count": 2,
   "metadata": {},
   "outputs": [],
   "source": [
    "t = cpp.World()\n",
    "\n"
   ]
  },
  {
   "cell_type": "code",
   "execution_count": 3,
   "metadata": {},
   "outputs": [],
   "source": [
    "t.reset()"
   ]
  },
  {
   "cell_type": "code",
   "execution_count": 6,
   "metadata": {},
   "outputs": [],
   "source": [
    "state = np.asarray(t.step([0.0, 0.0100] , [0.0,0.0]))\n",
    "state = np.asarray(t.step([0.0, 0.0100] , [0.0,0.0]))\n",
    "state = np.asarray(t.step([0.0, 0.0100] , [0.0,0.0]))\n",
    "state = np.asarray(t.step([0.0, 0.0100] , [0.0,0.0]))\n",
    "state = np.asarray(t.step([0.0, 0.0100] , [0.0,0.0]))\n",
    "state = np.asarray(t.step([0.0, 0.0100] , [0.0,0.0]))\n",
    "state = np.asarray(t.step([0.0, 0.0100] , [0.0,0.0]))\n",
    "state = np.asarray(t.step([0.0, 0.0100] , [0.0,0.0]))\n",
    "state = np.asarray(t.step([0.0, 0.0100] , [0.0,0.0]))\n",
    "state = np.asarray(t.step([0.0, 0.0100] , [0.0,0.0]))\n"
   ]
  },
  {
   "cell_type": "code",
   "execution_count": 7,
   "metadata": {},
   "outputs": [
    {
     "name": "stdout",
     "output_type": "stream",
     "text": [
      "[  2.19534039e+00   7.18738437e-01   2.06025624e+00   1.88850272e+00\n",
      "   1.90904975e+00   2.07541156e+00   7.31495440e-01   2.20878339e+00\n",
      "   1.91884303e+00   1.84790611e+00  -1.40666962e-02   0.00000000e+00\n",
      "   0.00000000e+00   1.73000000e+02]\n"
     ]
    }
   ],
   "source": [
    "print state"
   ]
  },
  {
   "cell_type": "code",
   "execution_count": null,
   "metadata": {},
   "outputs": [],
   "source": [
    "past_action = np.zeros((1,2))"
   ]
  },
  {
   "cell_type": "code",
   "execution_count": null,
   "metadata": {},
   "outputs": [],
   "source": [
    "t.step( (past_action.flatten()).tolist(), (past_action.flatten()).tolist())"
   ]
  },
  {
   "cell_type": "code",
   "execution_count": null,
   "metadata": {},
   "outputs": [],
   "source": [
    "temp = (past_action.flatten()).tolist()"
   ]
  },
  {
   "cell_type": "code",
   "execution_count": null,
   "metadata": {},
   "outputs": [],
   "source": []
  },
  {
   "cell_type": "code",
   "execution_count": null,
   "metadata": {},
   "outputs": [],
   "source": [
    "state = t.step( temp, temp)"
   ]
  },
  {
   "cell_type": "code",
   "execution_count": null,
   "metadata": {},
   "outputs": [],
   "source": [
    "print state"
   ]
  },
  {
   "cell_type": "code",
   "execution_count": null,
   "metadata": {},
   "outputs": [],
   "source": [
    "print np.asarray(state)"
   ]
  },
  {
   "cell_type": "code",
   "execution_count": null,
   "metadata": {},
   "outputs": [],
   "source": [
    "next_state = np.asarray(state[0:10])"
   ]
  },
  {
   "cell_type": "code",
   "execution_count": null,
   "metadata": {},
   "outputs": [],
   "source": [
    "print next_state\n"
   ]
  },
  {
   "cell_type": "code",
   "execution_count": null,
   "metadata": {},
   "outputs": [],
   "source": [
    "reward = state[10]"
   ]
  },
  {
   "cell_type": "code",
   "execution_count": null,
   "metadata": {},
   "outputs": [],
   "source": [
    "print reward"
   ]
  },
  {
   "cell_type": "code",
   "execution_count": null,
   "metadata": {},
   "outputs": [],
   "source": []
  },
  {
   "cell_type": "code",
   "execution_count": null,
   "metadata": {},
   "outputs": [],
   "source": []
  }
 ],
 "metadata": {
  "kernelspec": {
   "display_name": "Python 2",
   "language": "python",
   "name": "python2"
  },
  "language_info": {
   "codemirror_mode": {
    "name": "ipython",
    "version": 2
   },
   "file_extension": ".py",
   "mimetype": "text/x-python",
   "name": "python",
   "nbconvert_exporter": "python",
   "pygments_lexer": "ipython2",
   "version": "2.7.15rc1"
  }
 },
 "nbformat": 4,
 "nbformat_minor": 2
}
