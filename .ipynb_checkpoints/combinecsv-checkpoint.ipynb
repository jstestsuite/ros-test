{
 "cells": [
  {
   "cell_type": "code",
   "execution_count": 1,
   "metadata": {},
   "outputs": [],
   "source": [
    "###### SET UP FOR CMD_VEL ##########\n",
    "###### Maybe try throttled data so its all at 5 hz?\n",
    "\n",
    "#        http://wiki.ros.org/topic_tools/throttle\n",
    "\n",
    "import tensorflow as tf\n",
    "import csv\n",
    "\n",
    "time = 554.612"
   ]
  },
  {
   "cell_type": "code",
   "execution_count": 2,
   "metadata": {},
   "outputs": [],
   "source": [
    "#Ros time stamp = 11 digits with 0-99 seconds 12 digits with 100-999 seconds \n",
    "new_rows = []\n",
    "\n",
    "with open('odom_5hz.csv', 'rb') as f:\n",
    "    reader = csv.reader(f)\n",
    "    nrow = next(reader)\n",
    "    new_row =  [nrow[0], nrow[11],nrow[12], nrow[17]]\n",
    "    \n",
    "    new_rows.append(new_row)\n",
    "    #nrow = next(reader)\n",
    "    for row in reader:\n",
    "        # row is a list of strings\n",
    "        # use string.join to put them together\n",
    "        \n",
    "        # row 0 = time\n",
    "        # row 2 = linear x  row 11 for x, row 12 for y, 17 for z orientation\n",
    "        # row 3 = angular z\n",
    "        # make float and subtract start time\n",
    "        if (float(row[0])/10**9)-time>= 0:\n",
    "            new_row =  [(float(row[0])/10**9)-time, float(row[11]),float(row[12]),float(row[17])]\n",
    "        #new_row =  [(float(row[0])/10**9)-485.992, float(row[2]),float(row[8])]\n",
    "        \n",
    "            new_rows.append(new_row)\n",
    "        \n",
    "       \n",
    "\n"
   ]
  },
  {
   "cell_type": "code",
   "execution_count": 3,
   "metadata": {},
   "outputs": [],
   "source": [
    "#Ros time stamp = 11 digits with 0-99 seconds 12 digits with 100-999 seconds \n",
    "new_rows2 = []\n",
    "with open('cmd_5hz.csv', 'rb') as f2:\n",
    "    reader2 = csv.reader(f2)\n",
    "    nrow = next(reader2)\n",
    "    new_row =  [nrow[0], nrow[2],nrow[8]]\n",
    "    \n",
    "    new_rows2.append(new_row)\n",
    "\n",
    "    for row in reader2:\n",
    "        # row is a list of strings\n",
    "        # use string.join to put them together\n",
    "        \n",
    "        # row 0 = time\n",
    "        # row 2 = linear x  row 11 for x, row 12 for y, 17 for z orientation\n",
    "        # row 3 = angular z\n",
    "        # make float and subtract start time\n",
    "        \n",
    "        #new_row =  [(float(row[0])/10**9)-485.992]\n",
    "        new_row =  [(float(row[0])/10**9)-time, float(row[2]),float(row[8])]\n",
    "        \n",
    "        new_rows2.append(new_row)\n",
    "        \n",
    "       \n",
    "\n",
    "\n",
    "\n",
    "\n",
    "\n",
    "\n"
   ]
  },
  {
   "cell_type": "code",
   "execution_count": 4,
   "metadata": {},
   "outputs": [
    {
     "data": {
      "text/plain": [
       "[0.0, 0.0357894736842, 1.23684210526]"
      ]
     },
     "execution_count": 4,
     "metadata": {},
     "output_type": "execute_result"
    }
   ],
   "source": [
    "new_rows2[1]"
   ]
  },
  {
   "cell_type": "code",
   "execution_count": 5,
   "metadata": {},
   "outputs": [],
   "source": [
    "#Ros time stamp = 11 digits with 0-99 seconds 12 digits with 100-999 seconds \n",
    "new_rows3 = []\n",
    "\n",
    "with open('move_base_slash_goal.csv', 'rb') as f:\n",
    "    reader = csv.reader(f)\n",
    "    nrow = next(reader)\n",
    "    new_row =  [nrow[0], nrow[22],nrow[23]]\n",
    "    \n",
    "    new_rows3.append(new_row)\n",
    "\n",
    "    for row in reader:\n",
    "        # row is a list of strings\n",
    "        # use string.join to put them together\n",
    "        \n",
    "        # row 22 = x\n",
    "        # row 23 = y\n",
    "        \n",
    "        # make float and subtract start time\n",
    "        \n",
    "        new_row =  [(float(row[0])/10**9)-time, float(row[22]),float(row[23])]\n",
    "        \n",
    "        new_rows3.append(new_row)\n",
    "        \n",
    "       \n",
    "\n"
   ]
  },
  {
   "cell_type": "code",
   "execution_count": 6,
   "metadata": {},
   "outputs": [],
   "source": [
    "#newnew = [[new_rows], [new_rows2[1:]]]\n",
    "x = 0\n",
    "goal_count = 1\n",
    "new_rows[0].extend(new_rows2[0])\n",
    "new_rows[0].extend(new_rows3[0])\n",
    "temp = new_rows3[1]\n",
    "for x in range(1, len(new_rows)):\n",
    "    new_rows[x].extend(new_rows2[x])\n",
    "    if (goal_count < 6):\n",
    "        if(new_rows3[goal_count+1][0]<= new_rows[x][0]):\n",
    "        \n",
    "            goal_count=goal_count+1\n",
    "            temp = new_rows3[goal_count]\n",
    "    new_rows[x].extend(temp)\n",
    "    "
   ]
  },
  {
   "cell_type": "code",
   "execution_count": 7,
   "metadata": {},
   "outputs": [
    {
     "data": {
      "text/plain": [
       "569"
      ]
     },
     "execution_count": 7,
     "metadata": {},
     "output_type": "execute_result"
    }
   ],
   "source": [
    "len(new_rows2)\n"
   ]
  },
  {
   "cell_type": "code",
   "execution_count": 22,
   "metadata": {},
   "outputs": [
    {
     "name": "stdout",
     "output_type": "stream",
     "text": [
      "[1.6539999999999964, 3.03440477419, -1.65049966171, 0.747635389138, 1.5540000000000873, 0.5, 0.842105263158, -0.21199999999998909, -1.0, 6.0]\n",
      "[1.886000000000081, 3.01102717311, -1.53830485796, 0.801435922607, 1.8029999999999973, 0.5, 0.710526315789, -0.21199999999998909, -1.0, 6.0]\n"
     ]
    }
   ],
   "source": [
    "x = 1\n",
    "count = 0\n",
    "counts = []\n",
    "for row in new_rows:\n",
    "    \n",
    "    if row[0] <x:\n",
    "        count= count +1\n",
    "        if count >= 9:\n",
    "            print row\n",
    "    else:\n",
    "\n",
    "        counts.append(count)\n",
    "        count = 1\n",
    "        if count >= 4:\n",
    "            print row\n",
    "        x=x+1\n",
    "    #grab first, last, 2nd, 2nd last, 3rd?\n",
    "41 29 32"
   ]
  },
  {
   "cell_type": "code",
   "execution_count": 9,
   "metadata": {},
   "outputs": [],
   "source": [
    "#start at 0, grab all values... until new_rows[x][0] >1\n",
    "#count, just drop odd or something assuming over 5?\n",
    "\n",
    "\n",
    "############ This file is only good for 200 seconds then there is a problem with the data\n",
    "\n",
    "with open('test.csv', 'wb') as f:\n",
    "    # Overwrite the old file with the modified rows\n",
    "    writer = csv.writer(f)\n",
    "    writer.writerows(new_rows)"
   ]
  },
  {
   "cell_type": "code",
   "execution_count": 21,
   "metadata": {},
   "outputs": [
    {
     "data": {
      "text/plain": [
       "[0,\n",
       " 10,\n",
       " 4,\n",
       " 5,\n",
       " 4,\n",
       " 4,\n",
       " 4,\n",
       " 5,\n",
       " 4,\n",
       " 4,\n",
       " 5,\n",
       " 4,\n",
       " 4,\n",
       " 4,\n",
       " 5,\n",
       " 4,\n",
       " 4,\n",
       " 4,\n",
       " 5,\n",
       " 4,\n",
       " 4,\n",
       " 5,\n",
       " 4,\n",
       " 4,\n",
       " 4,\n",
       " 5,\n",
       " 4,\n",
       " 5,\n",
       " 4,\n",
       " 4,\n",
       " 5,\n",
       " 4,\n",
       " 4,\n",
       " 4,\n",
       " 5,\n",
       " 4,\n",
       " 4,\n",
       " 5,\n",
       " 4,\n",
       " 4,\n",
       " 4,\n",
       " 5,\n",
       " 4,\n",
       " 4,\n",
       " 5,\n",
       " 4,\n",
       " 4,\n",
       " 5,\n",
       " 4,\n",
       " 4,\n",
       " 5,\n",
       " 4,\n",
       " 4,\n",
       " 4,\n",
       " 5,\n",
       " 4,\n",
       " 4,\n",
       " 5,\n",
       " 4,\n",
       " 4,\n",
       " 4,\n",
       " 5,\n",
       " 4,\n",
       " 4,\n",
       " 5,\n",
       " 4,\n",
       " 4,\n",
       " 4,\n",
       " 5,\n",
       " 4,\n",
       " 4,\n",
       " 5,\n",
       " 4,\n",
       " 4,\n",
       " 4,\n",
       " 5,\n",
       " 4,\n",
       " 4,\n",
       " 4,\n",
       " 5,\n",
       " 4,\n",
       " 4,\n",
       " 5,\n",
       " 4,\n",
       " 4,\n",
       " 5,\n",
       " 4,\n",
       " 4,\n",
       " 5,\n",
       " 4,\n",
       " 4,\n",
       " 4,\n",
       " 5,\n",
       " 4,\n",
       " 5,\n",
       " 4,\n",
       " 4,\n",
       " 5,\n",
       " 4,\n",
       " 4,\n",
       " 5,\n",
       " 4,\n",
       " 4,\n",
       " 5,\n",
       " 4,\n",
       " 4,\n",
       " 4,\n",
       " 5,\n",
       " 4,\n",
       " 4,\n",
       " 5,\n",
       " 4,\n",
       " 4,\n",
       " 4,\n",
       " 5,\n",
       " 4,\n",
       " 4,\n",
       " 5,\n",
       " 4,\n",
       " 4,\n",
       " 4,\n",
       " 5,\n",
       " 4,\n",
       " 4,\n",
       " 4,\n",
       " 5,\n",
       " 4,\n",
       " 4,\n",
       " 5,\n",
       " 4]"
      ]
     },
     "execution_count": 21,
     "metadata": {},
     "output_type": "execute_result"
    }
   ],
   "source": [
    "\n",
    "counts\n"
   ]
  },
  {
   "cell_type": "code",
   "execution_count": 11,
   "metadata": {},
   "outputs": [
    {
     "name": "stdout",
     "output_type": "stream",
     "text": [
      "[0.2480000000000473, 2.90629985464, -1.9681739819, -0.00327651532363, 0.20100000000002183, 0.0357894736842, 1.10526315789, -0.21199999999998909, -1.0, 6.0]\n"
     ]
    }
   ],
   "source": [
    "print new_rows[2]"
   ]
  },
  {
   "cell_type": "code",
   "execution_count": null,
   "metadata": {},
   "outputs": [],
   "source": []
  },
  {
   "cell_type": "code",
   "execution_count": null,
   "metadata": {},
   "outputs": [],
   "source": []
  },
  {
   "cell_type": "code",
   "execution_count": null,
   "metadata": {},
   "outputs": [],
   "source": []
  },
  {
   "cell_type": "code",
   "execution_count": null,
   "metadata": {},
   "outputs": [],
   "source": []
  }
 ],
 "metadata": {
  "kernelspec": {
   "display_name": "Python 2",
   "language": "python",
   "name": "python2"
  },
  "language_info": {
   "codemirror_mode": {
    "name": "ipython",
    "version": 2
   },
   "file_extension": ".py",
   "mimetype": "text/x-python",
   "name": "python",
   "nbconvert_exporter": "python",
   "pygments_lexer": "ipython2",
   "version": "2.7.15rc1"
  }
 },
 "nbformat": 4,
 "nbformat_minor": 2
}
