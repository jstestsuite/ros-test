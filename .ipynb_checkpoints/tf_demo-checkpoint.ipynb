{
 "cells": [
  {
   "cell_type": "code",
   "execution_count": 1,
   "metadata": {},
   "outputs": [],
   "source": [
    "import tensorflow as tf\n",
    "import csv\n",
    "import math\n",
    "from tensorflow import keras\n",
    "\n",
    "# Helper libraries\n",
    "import numpy as np"
   ]
  },
  {
   "cell_type": "code",
   "execution_count": 2,
   "metadata": {},
   "outputs": [],
   "source": [
    "new_rows = []\n",
    "x_location = []\n",
    "y_location = []\n",
    "current_angle = []\n",
    "cmd_vel = []\n",
    "cmd_angle = []\n",
    "x_goal = []\n",
    "y_goal = []\n",
    "distance = []\n",
    "angle =[]\n",
    "with open('test.csv', 'rb') as f:\n",
    "    reader = csv.reader(f)\n",
    "    nrow = next(reader)\n",
    "    new_row =  nrow\n",
    "    \n",
    "    new_rows.append(new_row)\n",
    "    #nrow = next(reader)\n",
    "    for row in reader:\n",
    "        # row is a list of strings\n",
    "        # use string.join to put them together\n",
    "        \n",
    "        # row 0 = time\n",
    "        # row 2 = linear x  row 11 for x, row 12 for y, 17 for z orientation\n",
    "        # row 3 = angular z\n",
    "        \n",
    "\n",
    "        x_location.append(float(row[1]))\n",
    "        y_location.append(float(row[2]))\n",
    "        current_angle.append(float(row[3]))\n",
    "        cmd_vel.append(float(row[5]))\n",
    "        cmd_angle.append(float(row[6]))\n",
    "        x_goal.append(float(row[8]))\n",
    "        y_goal.append(float(row[9]))\n",
    "        distance.append(math.sqrt((float(row[8])-float(row[1]))**2+(float(row[9])-float(row[2]))**2))\n",
    "        angle.append(math.atan2((float(row[9])-float(row[2])),(float(row[8])-float(row[1])))-float(row[6]))"
   ]
  },
  {
   "cell_type": "code",
   "execution_count": 3,
   "metadata": {},
   "outputs": [
    {
     "name": "stdout",
     "output_type": "stream",
     "text": [
      "(2070, 1, 3)\n",
      "[[ 10.35534268  -1.84919758  -0.0772252 ]]\n",
      "-0.0772251984198\n"
     ]
    }
   ],
   "source": [
    "t = np.asarray(cmd_vel)\n",
    "t2 = np.asarray(cmd_angle)\n",
    "t = np.expand_dims(t,axis=1)\n",
    "t2 = np.expand_dims(t2,axis=1)\n",
    "ml_out = np.append(t,t2, axis=1)\n",
    "\n",
    "test = np.asarray(distance)\n",
    "test2 = np.asarray(angle)\n",
    "test = np.expand_dims(test,axis=1)\n",
    "test2 = np.expand_dims(test2,axis=1)\n",
    "\n",
    "test3 = np.asarray(current_angle)\n",
    "test3 = np.expand_dims(test3,axis=1)\n",
    "\n",
    "ml_in = np.append(test,test2, axis=1)\n",
    "ml_in = np.append(ml_in,test3, axis=1)\n",
    "ml_in= np.expand_dims(ml_in,axis=1)\n",
    "\n",
    "\n",
    "print ml_in.shape\n",
    "print ml_in[0]\n",
    "print current_angle[0]"
   ]
  },
  {
   "cell_type": "code",
   "execution_count": 4,
   "metadata": {},
   "outputs": [
    {
     "name": "stdout",
     "output_type": "stream",
     "text": [
      "x_loc 4.91582310957\n",
      "y_loc 0.984890964893\n",
      "angle -0.0772251984198\n",
      "x_goal -5.0\n",
      "y_goal -2.0\n",
      "angle -1.84919757805\n"
     ]
    }
   ],
   "source": [
    "print \"x_loc\",x_location[0]\n",
    "print \"y_loc\",y_location[0]\n",
    "print \"angle\",current_angle[0]\n",
    "print \"x_goal\",x_goal[0]\n",
    "print \"y_goal\",y_goal[0]\n",
    "print \"angle\", angle[0]"
   ]
  },
  {
   "cell_type": "code",
   "execution_count": 5,
   "metadata": {},
   "outputs": [
    {
     "name": "stdout",
     "output_type": "stream",
     "text": [
      "(2070, 1, 3)\n",
      "(1, 1, 2)\n"
     ]
    }
   ],
   "source": [
    "\n",
    "t = np.empty([1,1,2])\n",
    "\n",
    "t[0][0][1]= angle[1]\n",
    "t[0][0][0]= angle[0]\n",
    "\n",
    "#t = np.append(t,angle[0])\n",
    "\n",
    "print ml_in.shape\n",
    "print t.shape"
   ]
  },
  {
   "cell_type": "markdown",
   "metadata": {},
   "source": [
    "### angle is the angle to goal,\n",
    "### distance is the distance to the goal\n",
    "\n",
    "I just need to use distance/angle as my input and the (next?) cmd_2 will be my output\n",
    "\n",
    "cmd is 0 - 0.5\n",
    "angles all -1 - 1\n",
    "distance is 0 - 10\n"
   ]
  },
  {
   "cell_type": "code",
   "execution_count": 6,
   "metadata": {},
   "outputs": [],
   "source": [
    "#straight copied from tensorflow tutorial\n",
    "#may need to put my data in pandas/numpy\n",
    "\n",
    "model = keras.Sequential([\n",
    "    keras.layers.Flatten(input_shape=(1, 3)),\n",
    "    keras.layers.Dense(64, activation=tf.nn.tanh),\n",
    "    keras.layers.Dense(32, activation=tf.nn.tanh),\n",
    "    keras.layers.Dense(16, activation=tf.nn.tanh),\n",
    "    keras.layers.Dense(2, activation=tf.nn.tanh)\n",
    "])\n"
   ]
  },
  {
   "cell_type": "code",
   "execution_count": 7,
   "metadata": {},
   "outputs": [],
   "source": [
    "model.compile(optimizer=tf.train.AdamOptimizer(), \n",
    "              loss='mse',\n",
    "              metrics=['accuracy'])\n"
   ]
  },
  {
   "cell_type": "code",
   "execution_count": 8,
   "metadata": {
    "scrolled": true
   },
   "outputs": [
    {
     "name": "stdout",
     "output_type": "stream",
     "text": [
      "Epoch 1/10\n",
      "2070/2070 [==============================] - 0s 65us/step - loss: 0.1169 - acc: 0.8396\n",
      "Epoch 2/10\n",
      "2070/2070 [==============================] - 0s 17us/step - loss: 0.0931 - acc: 0.8623\n",
      "Epoch 3/10\n",
      "2070/2070 [==============================] - 0s 18us/step - loss: 0.0883 - acc: 0.8671\n",
      "Epoch 4/10\n",
      "2070/2070 [==============================] - 0s 18us/step - loss: 0.0853 - acc: 0.8623\n",
      "Epoch 5/10\n",
      "2070/2070 [==============================] - 0s 19us/step - loss: 0.0845 - acc: 0.8676\n",
      "Epoch 6/10\n",
      "2070/2070 [==============================] - 0s 18us/step - loss: 0.0820 - acc: 0.8667\n",
      "Epoch 7/10\n",
      "2070/2070 [==============================] - 0s 18us/step - loss: 0.0809 - acc: 0.8725\n",
      "Epoch 8/10\n",
      "2070/2070 [==============================] - 0s 18us/step - loss: 0.0789 - acc: 0.8758\n",
      "Epoch 9/10\n",
      "2070/2070 [==============================] - 0s 17us/step - loss: 0.0769 - acc: 0.8758\n",
      "Epoch 10/10\n",
      "2070/2070 [==============================] - 0s 17us/step - loss: 0.0763 - acc: 0.8826\n"
     ]
    },
    {
     "data": {
      "text/plain": [
       "<tensorflow.python.keras.callbacks.History at 0x7fe0d557da50>"
      ]
     },
     "execution_count": 8,
     "metadata": {},
     "output_type": "execute_result"
    }
   ],
   "source": [
    "model.fit(ml_in, ml_out, epochs=10)\n"
   ]
  },
  {
   "cell_type": "code",
   "execution_count": 9,
   "metadata": {},
   "outputs": [],
   "source": [
    "predictions = model.predict(ml_in)\n"
   ]
  },
  {
   "cell_type": "code",
   "execution_count": 10,
   "metadata": {},
   "outputs": [
    {
     "data": {
      "text/plain": [
       "array([[ 0.47524443, -0.33423525],\n",
       "       [ 0.48062688, -0.31414765],\n",
       "       [ 0.48734036, -0.28899583],\n",
       "       [ 0.49499288, -0.26064464],\n",
       "       [ 0.50401735, -0.22633931],\n",
       "       [ 0.51220995, -0.19376667],\n",
       "       [ 0.50599694, -0.23248196],\n",
       "       [ 0.51637763, -0.17963484],\n",
       "       [ 0.51321042, -0.19242129],\n",
       "       [ 0.50414193, -0.22385524],\n",
       "       [ 0.50458455, -0.21431464],\n",
       "       [ 0.50483966, -0.20619676],\n",
       "       [ 0.50488347, -0.197357  ],\n",
       "       [ 0.49951711, -0.20400329],\n",
       "       [ 0.49377894, -0.20766772],\n",
       "       [ 0.49316829, -0.1991688 ],\n",
       "       [ 0.48706767, -0.1985787 ],\n",
       "       [ 0.48620406, -0.1898592 ],\n",
       "       [ 0.49095225, -0.17389357],\n",
       "       [ 0.48448011, -0.17172255]], dtype=float32)"
      ]
     },
     "execution_count": 10,
     "metadata": {},
     "output_type": "execute_result"
    }
   ],
   "source": [
    "predictions[0:20]\n",
    "#predictions.shape\n",
    "\n"
   ]
  },
  {
   "cell_type": "code",
   "execution_count": 11,
   "metadata": {},
   "outputs": [
    {
     "data": {
      "text/plain": [
       "array([[ 0.03578947, -1.        ],\n",
       "       [ 0.03578947, -1.        ],\n",
       "       [ 0.44842105, -1.        ],\n",
       "       [ 0.47421053, -1.        ],\n",
       "       [ 0.5       , -1.        ],\n",
       "       [ 0.5       , -1.        ],\n",
       "       [ 0.5       , -0.67243675],\n",
       "       [ 0.5       , -0.86842105],\n",
       "       [ 0.5       , -0.73684211],\n",
       "       [ 0.5       , -0.47368421],\n",
       "       [ 0.5       , -0.47368421],\n",
       "       [ 0.5       , -0.47368421],\n",
       "       [ 0.5       , -0.47368421],\n",
       "       [ 0.5       , -0.34210526],\n",
       "       [ 0.5       , -0.21052632],\n",
       "       [ 0.5       , -0.21052632],\n",
       "       [ 0.5       , -0.07894737],\n",
       "       [ 0.5       , -0.07894737],\n",
       "       [ 0.5       , -0.21052632],\n",
       "       [ 0.5       , -0.07894737]])"
      ]
     },
     "execution_count": 11,
     "metadata": {},
     "output_type": "execute_result"
    }
   ],
   "source": [
    "ml_in[0:20]\n",
    "\n"
   ]
  },
  {
   "cell_type": "code",
   "execution_count": 12,
   "metadata": {},
   "outputs": [
    {
     "name": "stdout",
     "output_type": "stream",
     "text": [
      "_________________________________________________________________\n",
      "Layer (type)                 Output Shape              Param #   \n",
      "=================================================================\n",
      "flatten (Flatten)            (None, 3)                 0         \n",
      "_________________________________________________________________\n",
      "dense (Dense)                (None, 64)                256       \n",
      "_________________________________________________________________\n",
      "dense_1 (Dense)              (None, 32)                2080      \n",
      "_________________________________________________________________\n",
      "dense_2 (Dense)              (None, 16)                528       \n",
      "_________________________________________________________________\n",
      "dense_3 (Dense)              (None, 2)                 34        \n",
      "=================================================================\n",
      "Total params: 2,898\n",
      "Trainable params: 2,898\n",
      "Non-trainable params: 0\n",
      "_________________________________________________________________\n"
     ]
    }
   ],
   "source": [
    "model.summary()\n",
    "model.save_weights('./src/checkpoints/my_checkpoint')"
   ]
  },
  {
   "cell_type": "code",
   "execution_count": null,
   "metadata": {},
   "outputs": [],
   "source": []
  }
 ],
 "metadata": {
  "kernelspec": {
   "display_name": "Python 2",
   "language": "python",
   "name": "python2"
  },
  "language_info": {
   "codemirror_mode": {
    "name": "ipython",
    "version": 2
   },
   "file_extension": ".py",
   "mimetype": "text/x-python",
   "name": "python",
   "nbconvert_exporter": "python",
   "pygments_lexer": "ipython2",
   "version": "2.7.15rc1"
  }
 },
 "nbformat": 4,
 "nbformat_minor": 2
}
