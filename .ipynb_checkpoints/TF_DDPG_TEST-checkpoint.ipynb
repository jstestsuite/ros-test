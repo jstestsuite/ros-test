{
 "cells": [
  {
   "cell_type": "code",
   "execution_count": 6,
   "metadata": {},
   "outputs": [],
   "source": [
    "import tensorflow as tf\n",
    "import csv\n",
    "import math\n",
    "from tensorflow import keras\n",
    "\n",
    "\n",
    "\n",
    "# Helper libraries\n",
    "import numpy as np\n",
    "\n",
    "import rospy\n",
    "import os\n",
    "import json\n",
    "import numpy as np\n",
    "import random\n",
    "import time\n",
    "import sys\n",
    "from tensorflow.keras.models import Sequential, load_model\n",
    "from tensorflow.keras.optimizers import RMSprop\n",
    "from tensorflow.keras.layers import Dense, Dropout, Activation\n",
    "from collections import deque"
   ]
  },
  {
   "cell_type": "code",
   "execution_count": 36,
   "metadata": {},
   "outputs": [
    {
     "name": "stdout",
     "output_type": "stream",
     "text": [
      "[0.474210526316, 0.448421052632]\n",
      "[0.0357894736842, 0.448421052632, 0.474210526316]\n",
      "2 \n",
      "\n",
      "2 \n",
      "\n",
      "2 \n",
      "\n"
     ]
    }
   ],
   "source": [
    "batch_size = 2\n",
    "train_start = 64\n",
    "memory = deque(maxlen=1000000)\n",
    "\n",
    "mini_batch = random.sample(cmd_vel[1:4], batch_size)\n",
    "print mini_batch\n",
    "print cmd_vel[1:4]\n",
    "print len(mini_batch), \"\\n\"\n",
    "print len(mini_batch), \"\\n\"\n",
    "print len(mini_batch), \"\\n\"\n"
   ]
  },
  {
   "cell_type": "code",
   "execution_count": 30,
   "metadata": {},
   "outputs": [],
   "source": [
    "new_rows = []\n",
    "x_location = []\n",
    "y_location = []\n",
    "current_angle = []\n",
    "cmd_vel = []\n",
    "cmd_angle = []\n",
    "x_goal = []\n",
    "y_goal = []\n",
    "distance = []\n",
    "angle =[]\n",
    "with open('test.csv', 'rb') as f:\n",
    "    reader = csv.reader(f)\n",
    "    nrow = next(reader)\n",
    "    new_row =  nrow\n",
    "    \n",
    "    new_rows.append(new_row)\n",
    "    #nrow = next(reader)\n",
    "    for row in reader:\n",
    "        # row is a list of strings\n",
    "        # use string.join to put them together\n",
    "        \n",
    "        # row 0 = time\n",
    "        # row 2 = linear x  row 11 for x, row 12 for y, 17 for z orientation\n",
    "        # row 3 = angular z\n",
    "        \n",
    "\n",
    "        x_location.append(float(row[1]))\n",
    "        y_location.append(float(row[2]))\n",
    "        current_angle.append(float(row[3]))\n",
    "        cmd_vel.append(float(row[5]))\n",
    "        cmd_angle.append(float(row[6]))\n",
    "        x_goal.append(float(row[8]))\n",
    "        y_goal.append(float(row[9]))\n",
    "        distance.append(math.sqrt((float(row[8])-float(row[1]))**2+(float(row[9])-float(row[2]))**2))\n",
    "        angle.append(math.atan2((float(row[9])-float(row[2])),(float(row[8])-float(row[1]))))"
   ]
  },
  {
   "cell_type": "code",
   "execution_count": 13,
   "metadata": {},
   "outputs": [
    {
     "name": "stdout",
     "output_type": "stream",
     "text": [
      "(0, 1, 5)\n"
     ]
    },
    {
     "ename": "IndexError",
     "evalue": "index 0 is out of bounds for axis 0 with size 0",
     "output_type": "error",
     "traceback": [
      "\u001b[0;31m---------------------------------------------------------------------------\u001b[0m",
      "\u001b[0;31mIndexError\u001b[0m                                Traceback (most recent call last)",
      "\u001b[0;32m<ipython-input-13-38f8a7ea6f3b>\u001b[0m in \u001b[0;36m<module>\u001b[0;34m()\u001b[0m\n\u001b[1;32m     21\u001b[0m \u001b[0;34m\u001b[0m\u001b[0m\n\u001b[1;32m     22\u001b[0m \u001b[0;32mprint\u001b[0m \u001b[0mml_in\u001b[0m\u001b[0;34m.\u001b[0m\u001b[0mshape\u001b[0m\u001b[0;34m\u001b[0m\u001b[0m\n\u001b[0;32m---> 23\u001b[0;31m \u001b[0;32mprint\u001b[0m \u001b[0mml_in\u001b[0m\u001b[0;34m[\u001b[0m\u001b[0;36m0\u001b[0m\u001b[0;34m]\u001b[0m\u001b[0;34m\u001b[0m\u001b[0m\n\u001b[0m\u001b[1;32m     24\u001b[0m \u001b[0;32mprint\u001b[0m \u001b[0mcurrent_angle\u001b[0m\u001b[0;34m[\u001b[0m\u001b[0;36m0\u001b[0m\u001b[0;34m]\u001b[0m\u001b[0;34m\u001b[0m\u001b[0m\n",
      "\u001b[0;31mIndexError\u001b[0m: index 0 is out of bounds for axis 0 with size 0"
     ]
    }
   ],
   "source": [
    "t = np.asarray(cmd_vel)\n",
    "t2 = np.asarray(cmd_angle)\n",
    "t = np.expand_dims(t,axis=1)\n",
    "t2 = np.expand_dims(t2,axis=1)\n",
    "ml_out = np.append(t,t2, axis=1)\n",
    "\n",
    "test = np.asarray(distance)\n",
    "test2 = np.asarray(angle)\n",
    "test = np.expand_dims(test,axis=1)\n",
    "test2 = np.expand_dims(test2,axis=1)\n",
    "\n",
    "test3 = np.asarray(current_angle)\n",
    "test3 = np.expand_dims(test3,axis=1)\n",
    "\n",
    "ml_in = np.append(test,test2, axis=1)\n",
    "ml_in = np.append(ml_in,test3, axis=1)\n",
    "ml_in = np.append(ml_in,t, axis=1)\n",
    "ml_in = np.append(ml_in,t2, axis=1)\n",
    "ml_in= np.expand_dims(ml_in,axis=1)\n",
    "\n",
    "\n",
    "print ml_in.shape\n",
    "print ml_in[0]\n",
    "print current_angle[0]"
   ]
  },
  {
   "cell_type": "code",
   "execution_count": null,
   "metadata": {},
   "outputs": [],
   "source": [
    "print \"x_loc\",cmd_vel[0]\n",
    "print \"y_loc\",cmd_angle[0]\n",
    "print \"angle\",current_angle[0]\n",
    "print \"x_goal\",x_goal[0]\n",
    "print \"y_goal\",y_goal[0]\n",
    "print \"angle\", angle[0]"
   ]
  },
  {
   "cell_type": "code",
   "execution_count": null,
   "metadata": {},
   "outputs": [],
   "source": [
    "\n",
    "t = np.empty([1,1,2])\n",
    "\n",
    "t[0][0][1]= angle[1]\n",
    "t[0][0][0]= angle[0]\n",
    "\n",
    "#t = np.append(t,angle[0])\n",
    "\n",
    "print ml_in.shape\n",
    "print t.shape"
   ]
  },
  {
   "cell_type": "markdown",
   "metadata": {},
   "source": [
    "### angle is the angle to goal,\n",
    "### distance is the distance to the goal\n",
    "\n",
    "I just need to use distance/angle as my input and the (next?) cmd_2 will be my output\n",
    "\n",
    "cmd is 0 - 0.5\n",
    "angles all -1 - 1\n",
    "distance is 0 - 10\n"
   ]
  },
  {
   "cell_type": "code",
   "execution_count": null,
   "metadata": {},
   "outputs": [],
   "source": [
    "#straight copied from tensorflow tutorial\n",
    "#may need to put my data in pandas/numpy\n",
    "\n",
    "model = keras.Sequential([\n",
    "    keras.layers.Flatten(input_shape=(1, 5)),\n",
    "    keras.layers.Dense(64, activation=tf.nn.tanh),\n",
    "    keras.layers.Dense(32, activation=tf.nn.tanh),\n",
    "    keras.layers.Dense(16, activation=tf.nn.tanh),\n",
    "    keras.layers.Dense(2, activation=tf.nn.tanh)\n",
    "])\n"
   ]
  },
  {
   "cell_type": "code",
   "execution_count": null,
   "metadata": {},
   "outputs": [],
   "source": [
    "model.compile(optimizer=tf.train.AdamOptimizer(), \n",
    "              loss='mse',\n",
    "              metrics=['accuracy'])\n"
   ]
  },
  {
   "cell_type": "code",
   "execution_count": null,
   "metadata": {
    "scrolled": true
   },
   "outputs": [],
   "source": [
    "model.fit(ml_in, ml_out, epochs=10)\n"
   ]
  },
  {
   "cell_type": "code",
   "execution_count": null,
   "metadata": {},
   "outputs": [],
   "source": [
    "predictions = model.predict(ml_in)\n"
   ]
  },
  {
   "cell_type": "code",
   "execution_count": null,
   "metadata": {},
   "outputs": [],
   "source": [
    "predictions[0:20]\n",
    "#predictions.shape\n",
    "\n"
   ]
  },
  {
   "cell_type": "code",
   "execution_count": null,
   "metadata": {},
   "outputs": [],
   "source": [
    "ml_in[0:20]\n",
    "\n"
   ]
  },
  {
   "cell_type": "code",
   "execution_count": null,
   "metadata": {},
   "outputs": [],
   "source": [
    "model.summary()\n",
    "model.save_weights('./src/checkpoints/my_checkpoint')"
   ]
  },
  {
   "cell_type": "code",
   "execution_count": null,
   "metadata": {},
   "outputs": [],
   "source": []
  }
 ],
 "metadata": {
  "kernelspec": {
   "display_name": "Python 2",
   "language": "python",
   "name": "python2"
  },
  "language_info": {
   "codemirror_mode": {
    "name": "ipython",
    "version": 2
   },
   "file_extension": ".py",
   "mimetype": "text/x-python",
   "name": "python",
   "nbconvert_exporter": "python",
   "pygments_lexer": "ipython2",
   "version": "2.7.15rc1"
  }
 },
 "nbformat": 4,
 "nbformat_minor": 2
}
