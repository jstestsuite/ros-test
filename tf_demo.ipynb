{
 "cells": [
  {
   "cell_type": "code",
   "execution_count": null,
   "metadata": {},
   "outputs": [],
   "source": [
    "import tensorflow as tf\n",
    "import csv\n",
    "import math\n",
    "from tensorflow import keras\n",
    "\n",
    "# Helper libraries\n",
    "import numpy as np"
   ]
  },
  {
   "cell_type": "code",
   "execution_count": null,
   "metadata": {},
   "outputs": [],
   "source": [
    "new_rows = []\n",
    "x_location = []\n",
    "y_location = []\n",
    "current_angle = []\n",
    "cmd_vel = []\n",
    "cmd_angle = []\n",
    "x_goal = []\n",
    "y_goal = []\n",
    "distance = []\n",
    "angle =[]\n",
    "with open('test.csv', 'rb') as f:\n",
    "    reader = csv.reader(f)\n",
    "    nrow = next(reader)\n",
    "    new_row =  nrow\n",
    "    \n",
    "    new_rows.append(new_row)\n",
    "    #nrow = next(reader)\n",
    "    for row in reader:\n",
    "        # row is a list of strings\n",
    "        # use string.join to put them together\n",
    "        \n",
    "        # row 0 = time\n",
    "        # row 2 = linear x  row 11 for x, row 12 for y, 17 for z orientation\n",
    "        # row 3 = angular z\n",
    "        \n",
    "\n",
    "        x_location.append(float(row[1]))\n",
    "        y_location.append(float(row[2]))\n",
    "        current_angle.append(float(row[3]))\n",
    "        cmd_vel.append(float(row[5]))\n",
    "        cmd_angle.append(float(row[6]))\n",
    "        x_goal.append(float(row[8]))\n",
    "        y_goal.append(float(row[9]))\n",
    "        distance.append(math.sqrt((float(row[8])-float(row[1]))**2+(float(row[9])-float(row[2]))**2))\n",
    "        angle.append(math.atan2((float(row[9])-float(row[2])),(float(row[8])-float(row[1]))))"
   ]
  },
  {
   "cell_type": "code",
   "execution_count": null,
   "metadata": {},
   "outputs": [],
   "source": [
    "t = np.asarray(cmd_vel)\n",
    "t2 = np.asarray(cmd_angle)\n",
    "t = np.expand_dims(t,axis=1)\n",
    "t2 = np.expand_dims(t2,axis=1)\n",
    "ml_out = np.append(t,t2, axis=1)\n",
    "\n",
    "test = np.asarray(distance)\n",
    "test2 = np.asarray(angle)\n",
    "test = np.expand_dims(test,axis=1)\n",
    "test2 = np.expand_dims(test2,axis=1)\n",
    "\n",
    "test3 = np.asarray(current_angle)\n",
    "test3 = np.expand_dims(test3,axis=1)\n",
    "\n",
    "ml_in = np.append(test,test2, axis=1)\n",
    "ml_in = np.append(ml_in,test3, axis=1)\n",
    "ml_in = np.append(ml_in,t, axis=1)\n",
    "ml_in = np.append(ml_in,t2, axis=1)\n",
    "ml_in= np.expand_dims(ml_in,axis=1)\n",
    "\n",
    "\n",
    "print ml_in.shape\n",
    "print ml_in[0]\n",
    "print current_angle[0]"
   ]
  },
  {
   "cell_type": "code",
   "execution_count": null,
   "metadata": {},
   "outputs": [],
   "source": [
    "print \"x_loc\",cmd_vel[0]\n",
    "print \"y_loc\",cmd_angle[0]\n",
    "print \"angle\",current_angle[0]\n",
    "print \"x_goal\",x_goal[0]\n",
    "print \"y_goal\",y_goal[0]\n",
    "print \"angle\", angle[0]"
   ]
  },
  {
   "cell_type": "code",
   "execution_count": null,
   "metadata": {},
   "outputs": [],
   "source": [
    "\n",
    "t = np.empty([1,1,2])\n",
    "\n",
    "t[0][0][1]= angle[1]\n",
    "t[0][0][0]= angle[0]\n",
    "\n",
    "#t = np.append(t,angle[0])\n",
    "\n",
    "print ml_in.shape\n",
    "print t.shape"
   ]
  },
  {
   "cell_type": "markdown",
   "metadata": {},
   "source": [
    "### angle is the angle to goal,\n",
    "### distance is the distance to the goal\n",
    "\n",
    "I just need to use distance/angle as my input and the (next?) cmd_2 will be my output\n",
    "\n",
    "cmd is 0 - 0.5\n",
    "angles all -1 - 1\n",
    "distance is 0 - 10\n"
   ]
  },
  {
   "cell_type": "code",
   "execution_count": null,
   "metadata": {},
   "outputs": [],
   "source": [
    "#straight copied from tensorflow tutorial\n",
    "#may need to put my data in pandas/numpy\n",
    "\n",
    "model = keras.Sequential([\n",
    "    keras.layers.Flatten(input_shape=(1, 5)),\n",
    "    keras.layers.Dense(64, activation=tf.nn.tanh),\n",
    "    keras.layers.Dense(32, activation=tf.nn.tanh),\n",
    "    keras.layers.Dense(16, activation=tf.nn.tanh),\n",
    "    keras.layers.Dense(2, activation=tf.nn.tanh)\n",
    "])\n"
   ]
  },
  {
   "cell_type": "code",
   "execution_count": null,
   "metadata": {},
   "outputs": [],
   "source": [
    "model.compile(optimizer=tf.train.AdamOptimizer(), \n",
    "              loss='mse',\n",
    "              metrics=['accuracy'])\n"
   ]
  },
  {
   "cell_type": "code",
   "execution_count": null,
   "metadata": {
    "scrolled": true
   },
   "outputs": [],
   "source": [
    "model.fit(ml_in, ml_out, epochs=10)\n"
   ]
  },
  {
   "cell_type": "code",
   "execution_count": null,
   "metadata": {},
   "outputs": [],
   "source": [
    "predictions = model.predict(ml_in)\n"
   ]
  },
  {
   "cell_type": "code",
   "execution_count": null,
   "metadata": {},
   "outputs": [],
   "source": [
    "predictions[0:20]\n",
    "#predictions.shape\n",
    "\n"
   ]
  },
  {
   "cell_type": "code",
   "execution_count": null,
   "metadata": {},
   "outputs": [],
   "source": [
    "ml_in[0:20]\n",
    "\n"
   ]
  },
  {
   "cell_type": "code",
   "execution_count": null,
   "metadata": {},
   "outputs": [],
   "source": [
    "model.summary()\n",
    "model.save_weights('./src/checkpoints/my_checkpoint')"
   ]
  },
  {
   "cell_type": "code",
   "execution_count": null,
   "metadata": {},
   "outputs": [],
   "source": []
  }
 ],
 "metadata": {
  "kernelspec": {
   "display_name": "Python 2",
   "language": "python",
   "name": "python2"
  },
  "language_info": {
   "codemirror_mode": {
    "name": "ipython",
    "version": 2
   },
   "file_extension": ".py",
   "mimetype": "text/x-python",
   "name": "python",
   "nbconvert_exporter": "python",
   "pygments_lexer": "ipython2",
   "version": "2.7.15rc1"
  }
 },
 "nbformat": 4,
 "nbformat_minor": 2
}
