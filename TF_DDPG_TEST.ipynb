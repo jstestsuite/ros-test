{
 "cells": [
  {
   "cell_type": "code",
   "execution_count": 1,
   "metadata": {},
   "outputs": [],
   "source": [
    "import tensorflow as tf\n",
    "import csv\n",
    "import math\n",
    "from tensorflow import keras\n",
    "\n",
    "\n",
    "\n",
    "# Helper libraries\n",
    "import numpy as np\n",
    "\n",
    "import rospy\n",
    "import os\n",
    "import json\n",
    "import numpy as np\n",
    "import random\n",
    "import time\n",
    "import sys\n",
    "from tensorflow.keras.models import Sequential, load_model\n",
    "from tensorflow.keras.optimizers import RMSprop\n",
    "from tensorflow.keras.layers import Dense, Dropout, Activation\n",
    "from collections import deque"
   ]
  },
  {
   "cell_type": "code",
   "execution_count": 2,
   "metadata": {},
   "outputs": [],
   "source": [
    "batch_size = 2\n",
    "train_start = 64\n",
    "memory = deque(maxlen=1000000)\n"
   ]
  },
  {
   "cell_type": "code",
   "execution_count": 3,
   "metadata": {},
   "outputs": [],
   "source": [
    "\n",
    "from tensorflow import keras\n",
    "from tensorflow.keras.layers import Input, Embedding, LSTM, Dense\n",
    "from tensorflow.keras.models import Model\n",
    "\n",
    "# Headline input: meant to receive sequences of 100 integers, between 1 and 10000.\n",
    "# Note that we can name any layer by passing it a \"name\" argument.\n",
    "state = keras.layers.Input(shape=(14,), name='state')\n",
    "\n",
    "# This embedding layer will encode the input sequence\n",
    "# into a sequence of dense 512-dimensional vectors.\n",
    "d1 = Dense(512, activation='relu')(state)\n",
    "#auxiliary_output = keras.layers.Dense(1, activation='sigmoid', name='aux_output')(d1)\n",
    "\n",
    "action = keras.layers.Input(shape=(2,), name='action')\n",
    "x = keras.layers.concatenate([d1, action])\n",
    "\n",
    "x = Dense(512, activation='relu')(x)\n",
    "x = Dense(512, activation='relu')(x)\n",
    "\n",
    "\n",
    "# And finally we add the main logistic regression layer\n",
    "q_val= Dense(1, activation='sigmoid', name='main_output')(x)\n",
    "\n",
    "critic = Model(inputs=[state, action], outputs=[q_val])\n",
    "#critic.summary()"
   ]
  },
  {
   "cell_type": "code",
   "execution_count": 4,
   "metadata": {},
   "outputs": [],
   "source": [
    "\n",
    "\n",
    "state = keras.layers.Input(shape=(14,), name='main_input')\n",
    "\n",
    "# This embedding layer will encode the input sequence\n",
    "# into a sequence of dense 512-dimensional vectors.\n",
    "x = Dense(512, activation='relu')(state)\n",
    "x = Dense(512, activation='relu')(state)\n",
    "x = Dense(512, activation='relu')(state)\n",
    "#auxiliary_output = keras.layers.Dense(1, activation='sigmoid', name='aux_output')(d1)\n",
    "\n",
    "lin_vel = Dense(1, activation='sigmoid', name='lin_vel')(x)\n",
    "ang_vel = Dense(1, activation='tanh', name='ang_vel')(x)\n",
    "output = keras.layers.concatenate([lin_vel, ang_vel])\n",
    "\n",
    "actor = Model(inputs=[state], outputs=output)\n",
    "#actor.summary()\n"
   ]
  },
  {
   "cell_type": "code",
   "execution_count": 5,
   "metadata": {},
   "outputs": [],
   "source": [
    "import numpy as np"
   ]
  },
  {
   "cell_type": "code",
   "execution_count": 6,
   "metadata": {},
   "outputs": [],
   "source": [
    "critic.compile(optimizer=tf.train.AdamOptimizer(), \n",
    "              loss='mse',\n",
    "              metrics=['accuracy'])\n",
    "\n",
    "actor.compile(optimizer=tf.train.AdamOptimizer(), \n",
    "              loss='mse',\n",
    "              metrics=['accuracy'])\n"
   ]
  },
  {
   "cell_type": "code",
   "execution_count": 7,
   "metadata": {
    "scrolled": true
   },
   "outputs": [],
   "source": [
    "#model.fit(ml_in, ml_out, epochs=10)\n",
    "test = np.ones(14)\n",
    "test2 = np.ones(2)\n"
   ]
  },
  {
   "cell_type": "code",
   "execution_count": 8,
   "metadata": {},
   "outputs": [],
   "source": [
    "#predictions = model.predict(ml_in)\n",
    "blank = actor.predict(test.reshape(1, len(test)))\n",
    "blank2 = critic.predict([test.reshape(1, len(test)), test2.reshape(1,len(test2))])"
   ]
  },
  {
   "cell_type": "code",
   "execution_count": null,
   "metadata": {},
   "outputs": [],
   "source": [
    "#predictions[0:20]\n",
    "#predictions.shape\n",
    "past_action = np.zeros((1,2))\n",
    "print blank.shape\n",
    "past_action.shape"
   ]
  },
  {
   "cell_type": "code",
   "execution_count": 71,
   "metadata": {},
   "outputs": [
    {
     "name": "stdout",
     "output_type": "stream",
     "text": [
      "(1, 2)\n",
      "(0, 2)\n",
      "(1, 14)\n",
      "(1, 2)\n"
     ]
    }
   ],
   "source": [
    "t = np.empty([0,14])\n",
    "t2 = np.empty([0,2])\n",
    "test = np.ones(14)\n",
    "test2 = np.ones(2)\n",
    "test = test.reshape(1, len(test))\n",
    "test2 = test2.reshape(1, len(test2))\n",
    "print test2.shape\n",
    "print t2.shape\n",
    "t = np.append(t , test, axis = 0)\n",
    "t2 = np.append(t2 , test2, axis = 0)\n",
    "\n",
    "print test.shape\n",
    "print test2.shape"
   ]
  },
  {
   "cell_type": "code",
   "execution_count": 72,
   "metadata": {},
   "outputs": [],
   "source": [
    "blank2 = critic.predict([test, test2])\n"
   ]
  },
  {
   "cell_type": "code",
   "execution_count": 70,
   "metadata": {},
   "outputs": [
    {
     "ename": "TypeError",
     "evalue": "'numpy.float64' object does not support item assignment",
     "output_type": "error",
     "traceback": [
      "\u001b[0;31m---------------------------------------------------------------------------\u001b[0m",
      "\u001b[0;31mTypeError\u001b[0m                                 Traceback (most recent call last)",
      "\u001b[0;32m<ipython-input-70-74e1270ae26f>\u001b[0m in \u001b[0;36m<module>\u001b[0;34m()\u001b[0m\n\u001b[0;32m----> 1\u001b[0;31m \u001b[0mtest\u001b[0m\u001b[0;34m[\u001b[0m\u001b[0;36m0\u001b[0m\u001b[0;34m]\u001b[0m\u001b[0;34m[\u001b[0m\u001b[0;36m2\u001b[0m\u001b[0;34m]\u001b[0m \u001b[0;34m=\u001b[0m \u001b[0;36m3\u001b[0m\u001b[0;34m\u001b[0m\u001b[0m\n\u001b[0m\u001b[1;32m      2\u001b[0m \u001b[0;32mprint\u001b[0m \u001b[0mtest\u001b[0m\u001b[0;34m.\u001b[0m\u001b[0mshape\u001b[0m\u001b[0;34m\u001b[0m\u001b[0m\n\u001b[1;32m      3\u001b[0m \u001b[0;32mprint\u001b[0m \u001b[0mtest2\u001b[0m\u001b[0;34m.\u001b[0m\u001b[0mshape\u001b[0m\u001b[0;34m\u001b[0m\u001b[0m\n",
      "\u001b[0;31mTypeError\u001b[0m: 'numpy.float64' object does not support item assignment"
     ]
    }
   ],
   "source": [
    "test[0][2] = 3\n",
    "print test.shape\n",
    "print test2.shape"
   ]
  },
  {
   "cell_type": "code",
   "execution_count": null,
   "metadata": {},
   "outputs": [],
   "source": [
    "#sess = tf.Session()\n",
    "action = tf.placeholder(tf.float32, [None, 2])\n",
    "action_2 = tf.placeholder(tf.float32, [None, 2])\n",
    "state = tf.placeholder(tf.float64, [None, 14])\n",
    "\n",
    "#state_1 = tf.placeholder(tf.float32, [None, 14])\n",
    "action_grads = tf.gradients(critic.output, action) #GRADIENTS for policy update\n",
    "#sess.run(tf.global_variables_initializer())\n",
    "\n",
    "\n",
    "\n",
    "\n"
   ]
  },
  {
   "cell_type": "code",
   "execution_count": null,
   "metadata": {},
   "outputs": [],
   "source": [
    "#sess = tf.Session()\n",
    "#sess.run(tf.global_variables_initializer())\n",
    "\n",
    "def grads (model, states, actions):\n",
    "    grad = action_grads, feed_dict={\n",
    "            state: states,\n",
    "            action: actions\n",
    "    }\n",
    "    return grad\n",
    "\n",
    "grads(critic, test, test2)"
   ]
  },
  {
   "cell_type": "code",
   "execution_count": null,
   "metadata": {},
   "outputs": [],
   "source": [
    "#critic.get_weights()\n",
    "with tf.Session() as sess:\n",
    "    print sess.run(action_grads,feed_dict={\n",
    "    state: test, \n",
    "    action: test2})\n",
    "#critic.get_weights()\n",
    "#print temp\n",
    "#sess.close()"
   ]
  },
  {
   "cell_type": "code",
   "execution_count": null,
   "metadata": {},
   "outputs": [],
   "source": [
    "import tensorflow as tf\n",
    "\n",
    "a = tf.placeholder(tf.float32)\n",
    "b = tf.placeholder(tf.float32)\n",
    "c = a+b\n",
    "\n",
    "sess = tf.Session()\n",
    "sess.run(tf.global_variables_initializer())\n",
    "print sess.run(c,feed_dict={a:1.0, b:1.0})\n",
    "sess.close()\n",
    "    "
   ]
  },
  {
   "cell_type": "code",
   "execution_count": null,
   "metadata": {},
   "outputs": [],
   "source": [
    "\n",
    "a = tf.constant(0.)\n",
    "b = 2 * a\n",
    "g = tf.gradients(a + b, [a, b], stop_gradients=[a, b])\n",
    "print g"
   ]
  },
  {
   "cell_type": "code",
   "execution_count": null,
   "metadata": {},
   "outputs": [],
   "source": [
    "actor.output_shape"
   ]
  },
  {
   "cell_type": "code",
   "execution_count": null,
   "metadata": {},
   "outputs": [],
   "source": [
    "memory.append((test, test2))"
   ]
  },
  {
   "cell_type": "code",
   "execution_count": 35,
   "metadata": {},
   "outputs": [
    {
     "data": {
      "text/plain": [
       "1"
      ]
     },
     "execution_count": 35,
     "metadata": {},
     "output_type": "execute_result"
    }
   ],
   "source": [
    "len(memory)"
   ]
  },
  {
   "cell_type": "code",
   "execution_count": 10,
   "metadata": {},
   "outputs": [],
   "source": [
    "test3 = np.asarray([ 2.76205611,  2.06204796,  1.59506261,  1.24448633,  1.11614728,\n",
    "        1.05906844,  1.12388086,  1.14259541,  1.03247726,  1.01678181,\n",
    "        0.        ,  0.        , -2.42      ,  2.35      ])"
   ]
  },
  {
   "cell_type": "code",
   "execution_count": 39,
   "metadata": {},
   "outputs": [],
   "source": [
    "memory.append((test, test2, test3, blank))"
   ]
  },
  {
   "cell_type": "code",
   "execution_count": 36,
   "metadata": {},
   "outputs": [
    {
     "ename": "IndexError",
     "evalue": "deque index out of range",
     "output_type": "error",
     "traceback": [
      "\u001b[0;31m---------------------------------------------------------------------------\u001b[0m",
      "\u001b[0;31mIndexError\u001b[0m                                Traceback (most recent call last)",
      "\u001b[0;32m<ipython-input-36-1049b73f7ed6>\u001b[0m in \u001b[0;36m<module>\u001b[0;34m()\u001b[0m\n\u001b[1;32m      1\u001b[0m \u001b[0mt\u001b[0m \u001b[0;34m=\u001b[0m \u001b[0mnp\u001b[0m\u001b[0;34m.\u001b[0m\u001b[0masarray\u001b[0m\u001b[0;34m(\u001b[0m\u001b[0mmemory\u001b[0m\u001b[0;34m[\u001b[0m\u001b[0;36m0\u001b[0m\u001b[0;34m]\u001b[0m\u001b[0;34m)\u001b[0m\u001b[0;34m\u001b[0m\u001b[0m\n\u001b[0;32m----> 2\u001b[0;31m \u001b[0mt2\u001b[0m \u001b[0;34m=\u001b[0m \u001b[0mnp\u001b[0m\u001b[0;34m.\u001b[0m\u001b[0masarray\u001b[0m\u001b[0;34m(\u001b[0m\u001b[0mmemory\u001b[0m\u001b[0;34m[\u001b[0m\u001b[0;36m2\u001b[0m\u001b[0;34m]\u001b[0m\u001b[0;34m)\u001b[0m\u001b[0;34m\u001b[0m\u001b[0m\n\u001b[0m\u001b[1;32m      3\u001b[0m \u001b[0mt3\u001b[0m \u001b[0;34m=\u001b[0m \u001b[0mnp\u001b[0m\u001b[0;34m.\u001b[0m\u001b[0masarray\u001b[0m\u001b[0;34m(\u001b[0m\u001b[0mmemory\u001b[0m\u001b[0;34m[\u001b[0m\u001b[0;36m3\u001b[0m\u001b[0;34m]\u001b[0m\u001b[0;34m)\u001b[0m\u001b[0;34m\u001b[0m\u001b[0m\n",
      "\u001b[0;31mIndexError\u001b[0m: deque index out of range"
     ]
    }
   ],
   "source": [
    "t = np.asarray(memory[0])\n",
    "t2 = np.asarray(memory[2])\n",
    "t3 = np.asarray(memory[3])"
   ]
  },
  {
   "cell_type": "code",
   "execution_count": 23,
   "metadata": {},
   "outputs": [],
   "source": [
    "t3 = t3.reshape(1, len(t3))"
   ]
  },
  {
   "cell_type": "code",
   "execution_count": 59,
   "metadata": {},
   "outputs": [
    {
     "data": {
      "text/plain": [
       "array([ 1.,  1.])"
      ]
     },
     "execution_count": 59,
     "metadata": {},
     "output_type": "execute_result"
    }
   ],
   "source": [
    "memory[1][1]"
   ]
  },
  {
   "cell_type": "code",
   "execution_count": 48,
   "metadata": {},
   "outputs": [],
   "source": [
    "l = np.empty(0)"
   ]
  },
  {
   "cell_type": "code",
   "execution_count": 52,
   "metadata": {},
   "outputs": [
    {
     "name": "stdout",
     "output_type": "stream",
     "text": [
      "(0, 14)\n",
      "(14,)\n"
     ]
    }
   ],
   "source": [
    "states = np.empty(([0,14]), dtype=np.float64)\n",
    "print states.shape\n",
    "print np.asarray(memory[1][2]).shape\n",
    "states = np.append(states, np.asarray(memory[1][2]).reshape(1, 14), axis = 0)"
   ]
  },
  {
   "cell_type": "code",
   "execution_count": 75,
   "metadata": {},
   "outputs": [
    {
     "name": "stdout",
     "output_type": "stream",
     "text": [
      "(8, 1)\n",
      "(8, 2)\n",
      "(8, 14)\n"
     ]
    }
   ],
   "source": [
    "blank2 = np.append(blank2, blank2, axis = 0)\n",
    "print blank2.shape\n",
    "test2 = np.append(test2, test2, axis = 0)\n",
    "print test2.shape\n",
    "test = np.append(test, test, axis = 0)\n",
    "print test.shape\n"
   ]
  },
  {
   "cell_type": "code",
   "execution_count": 60,
   "metadata": {},
   "outputs": [],
   "source": [
    "t = []\n",
    "t.append(True)\n",
    "t.append(False)"
   ]
  },
  {
   "cell_type": "code",
   "execution_count": 76,
   "metadata": {},
   "outputs": [],
   "source": [
    "loss = 0"
   ]
  },
  {
   "cell_type": "code",
   "execution_count": 81,
   "metadata": {},
   "outputs": [],
   "source": [
    "tes= critic.train_on_batch([test, test2], blank2) "
   ]
  },
  {
   "cell_type": "code",
   "execution_count": 82,
   "metadata": {},
   "outputs": [
    {
     "data": {
      "text/plain": [
       "[0.0, 0.0]"
      ]
     },
     "execution_count": 82,
     "metadata": {},
     "output_type": "execute_result"
    }
   ],
   "source": [
    "tes"
   ]
  },
  {
   "cell_type": "code",
   "execution_count": 7,
   "metadata": {},
   "outputs": [],
   "source": [
    "class OrnsteinUhlenbeckActionNoise:\n",
    "    def __init__(self, mu, sigma=0.3, theta=.15, dt=1e-2, x0=None):\n",
    "        self.theta = theta\n",
    "        self.mu = mu\n",
    "        self.sigma = sigma\n",
    "        self.dt = dt\n",
    "        self.x0 = x0\n",
    "        self.reset()\n",
    "\n",
    "    def __call__(self):\n",
    "        x = self.x_prev + self.theta * (self.mu - self.x_prev) * self.dt + \\\n",
    "                self.sigma * np.sqrt(self.dt) * np.random.normal(size=self.mu.shape)\n",
    "        x[0] = abs(x[0])\n",
    "        self.x_prev = x\n",
    "        return x\n",
    "\n",
    "    def reset(self):\n",
    "        self.x_prev = self.x0 if self.x0 is not None else np.zeros_like(self.mu)\n",
    "\n",
    "    def __repr__(self):\n",
    "        return 'OrnsteinUhlenbeckActionNoise(mu={}, sigma={})'.format(self.mu, self.sigma)"
   ]
  },
  {
   "cell_type": "code",
   "execution_count": 8,
   "metadata": {},
   "outputs": [],
   "source": [
    "actor_noise = OrnsteinUhlenbeckActionNoise(mu=np.zeros(2))"
   ]
  },
  {
   "cell_type": "code",
   "execution_count": 14,
   "metadata": {},
   "outputs": [
    {
     "name": "stdout",
     "output_type": "stream",
     "text": [
      "[ 0.01117956 -0.00213796]\n",
      "[ 0.03669061  0.0362878 ]\n",
      "[ 0.09078902 -0.00827449]\n",
      "[ 0.06801484 -0.03093242]\n",
      "[ 0.0918488  -0.02359712]\n",
      "[ 0.08019879 -0.00834973]\n",
      "[ 0.05865581  0.01688653]\n",
      "[ 0.06244136  0.02763384]\n",
      "[ 0.0532865  -0.00797641]\n",
      "[ 0.03027308 -0.0087905 ]\n",
      "[ 0.06696278 -0.0104088 ]\n",
      "[ 0.07233983  0.02573834]\n",
      "[ 0.1087147   0.07257342]\n",
      "[ 0.1057209   0.10663628]\n",
      "[ 0.08666155  0.09591483]\n",
      "[ 0.08702894  0.1394619 ]\n",
      "[ 0.02228508  0.13172905]\n",
      "[ 0.02407698  0.09392548]\n",
      "[ 0.00753071  0.07152991]\n",
      "[ 0.05458295  0.09763194]\n",
      "[ 0.0060717   0.05389203]\n",
      "[ 0.04942431  0.12067119]\n",
      "[ 0.09850357  0.09868975]\n",
      "[ 0.04559672  0.13858909]\n",
      "[ 0.05318048  0.1422861 ]\n",
      "[ 0.03989534  0.20423657]\n",
      "[ 0.00592788  0.19442798]\n",
      "[ 0.00841472  0.18474455]\n",
      "[ 0.04278187  0.19853825]\n",
      "[ 0.01436192  0.21321828]\n",
      "[ 0.02867564  0.24207964]\n",
      "[ 0.02689482  0.26935606]\n",
      "[ 0.01414772  0.25847983]\n",
      "[ 0.04423991  0.20396005]\n",
      "[ 0.09719682  0.1561384 ]\n",
      "[ 0.12900001  0.18199144]\n",
      "[ 0.08114437  0.18344139]\n",
      "[ 0.07916776  0.15815134]\n",
      "[ 0.07626911  0.11670213]\n",
      "[ 0.0647189   0.08196545]\n",
      "[ 0.05215133  0.07187952]\n",
      "[ 0.053601    0.02066377]\n",
      "[ 0.07262565 -0.00746521]\n",
      "[ 0.04954606  0.027427  ]\n",
      "[ 0.09098712 -0.00710963]\n",
      "[ 0.11361757 -0.01474662]\n",
      "[ 0.09447452 -0.02641374]\n",
      "[ 0.12668209 -0.05536067]\n",
      "[ 0.13692416 -0.08366951]\n",
      "[ 0.13076282 -0.05759671]\n",
      "[ 0.11699771 -0.04719155]\n",
      "[ 0.11282624 -0.04012668]\n",
      "[ 0.07759824 -0.08491287]\n",
      "[ 0.00741863 -0.08805571]\n",
      "[ 0.00040868 -0.07531149]\n",
      "[ 0.01405539 -0.07287356]\n",
      "[ 0.01285529 -0.18612585]\n",
      "[ 0.00226652 -0.2089192 ]\n",
      "[ 0.01374598 -0.20379949]\n",
      "[ 0.01889876 -0.25351607]\n",
      "[ 0.05525292 -0.25503047]\n",
      "[ 0.01167255 -0.23039094]\n",
      "[ 0.00366989 -0.20565587]\n",
      "[ 0.04599536 -0.18826542]\n",
      "[ 0.03248898 -0.18743632]\n",
      "[ 0.07475918 -0.16860789]\n",
      "[ 0.07834604 -0.16189887]\n",
      "[ 0.09988116 -0.20963728]\n",
      "[ 0.13516737 -0.20217083]\n",
      "[ 0.14301425 -0.15472534]\n",
      "[ 0.14107092 -0.17243033]\n",
      "[ 0.1479011 -0.2025833]\n",
      "[ 0.177851   -0.22684474]\n",
      "[ 0.16507977 -0.24211772]\n",
      "[ 0.14308739 -0.24492869]\n",
      "[ 0.14904237 -0.29289811]\n",
      "[ 0.15390473 -0.316537  ]\n",
      "[ 0.19584179 -0.33574579]\n",
      "[ 0.17268677 -0.34276556]\n",
      "[ 0.19450078 -0.38052617]\n",
      "[ 0.21280516 -0.3310294 ]\n",
      "[ 0.1546272  -0.34565155]\n",
      "[ 0.16266064 -0.35177769]\n",
      "[ 0.15011046 -0.41254553]\n",
      "[ 0.11603755 -0.38356615]\n",
      "[ 0.08374263 -0.35921011]\n",
      "[ 0.10987139 -0.3622841 ]\n",
      "[ 0.0780449  -0.33063425]\n",
      "[ 0.0710962  -0.29046797]\n",
      "[ 0.10896948 -0.30093115]\n",
      "[ 0.07293042 -0.31910267]\n",
      "[ 0.04697314 -0.35793687]\n",
      "[ 0.024543   -0.39450509]\n",
      "[ 0.01411543 -0.40918305]\n",
      "[ 0.07498798 -0.40830848]\n",
      "[ 0.12979073 -0.41422947]\n",
      "[ 0.10888476 -0.42274788]\n",
      "[ 0.16438214 -0.4179021 ]\n",
      "[ 0.17972223 -0.43405411]\n",
      "[ 0.20310009 -0.44018917]\n",
      "[ 0.15251754 -0.41273581]\n",
      "[ 0.12488066 -0.41327686]\n",
      "[ 0.11346377 -0.46508972]\n",
      "[ 0.12618585 -0.52130768]\n",
      "[ 0.04596665 -0.55640203]\n",
      "[ 0.02938104 -0.52398936]\n",
      "[ 0.01105955 -0.53862136]\n",
      "[ 0.08023247 -0.49435435]\n",
      "[ 0.06735923 -0.49121725]\n",
      "[ 0.06624659 -0.47310815]\n",
      "[ 0.07061032 -0.4602568 ]\n",
      "[ 0.11999086 -0.46205362]\n",
      "[ 0.14227199 -0.44685161]\n",
      "[ 0.13442925 -0.41683447]\n",
      "[ 0.14111809 -0.41430783]\n",
      "[ 0.11360991 -0.35134183]\n",
      "[ 0.1313617  -0.40036555]\n",
      "[ 0.17500235 -0.40140484]\n",
      "[ 0.13311599 -0.40970146]\n",
      "[ 0.15612559 -0.44042885]\n",
      "[ 0.19228764 -0.45494617]\n",
      "[ 0.14738881 -0.47478598]\n",
      "[ 0.19909251 -0.47003305]\n",
      "[ 0.18998894 -0.50459044]\n",
      "[ 0.19611582 -0.50298718]\n",
      "[ 0.17732792 -0.48270741]\n",
      "[ 0.22266219 -0.48135787]\n",
      "[ 0.17151708 -0.48957217]\n",
      "[ 0.22749527 -0.52560234]\n",
      "[ 0.2046588  -0.58539696]\n",
      "[ 0.2218885  -0.61456293]\n",
      "[ 0.20341192 -0.61228625]\n",
      "[ 0.24277372 -0.62841463]\n",
      "[ 0.22164522 -0.5944458 ]\n",
      "[ 0.20301537 -0.62849242]\n",
      "[ 0.23228744 -0.6167188 ]\n",
      "[ 0.21154224 -0.63481809]\n",
      "[ 0.2331725  -0.67603088]\n",
      "[ 0.22883258 -0.67280633]\n",
      "[ 0.26649496 -0.66651841]\n",
      "[ 0.31963092 -0.70644929]\n",
      "[ 0.28640819 -0.71229092]\n",
      "[ 0.29352524 -0.70502674]\n",
      "[ 0.28549542 -0.71318762]\n",
      "[ 0.27408289 -0.74828622]\n",
      "[ 0.21777266 -0.72605341]\n",
      "[ 0.24496516 -0.7073919 ]\n",
      "[ 0.26406009 -0.73518403]\n",
      "[ 0.23370813 -0.72744986]\n",
      "[ 0.27125682 -0.72003962]\n",
      "[ 0.2267669  -0.71794106]\n",
      "[ 0.17530391 -0.68884668]\n",
      "[ 0.19391555 -0.68933725]\n",
      "[ 0.19346475 -0.66050204]\n",
      "[ 0.18976332 -0.61146244]\n",
      "[ 0.22740546 -0.59822546]\n",
      "[ 0.20315334 -0.6222438 ]\n",
      "[ 0.20437449 -0.63647021]\n",
      "[ 0.21942116 -0.66153811]\n",
      "[ 0.24246426 -0.63921766]\n",
      "[ 0.27266827 -0.62888674]\n",
      "[ 0.32412815 -0.62275638]\n",
      "[ 0.30694    -0.59942691]\n",
      "[ 0.31545486 -0.59840197]\n",
      "[ 0.32468713 -0.64357566]\n",
      "[ 0.32849923 -0.66275124]\n",
      "[ 0.34820123 -0.69234381]\n",
      "[ 0.32946634 -0.6851663 ]\n",
      "[ 0.3164654  -0.65241013]\n",
      "[ 0.33430881 -0.62042199]\n",
      "[ 0.31542887 -0.64599359]\n",
      "[ 0.2770017  -0.64306845]\n",
      "[ 0.29723244 -0.64575724]\n",
      "[ 0.30404479 -0.62152559]\n",
      "[ 0.30329985 -0.65170776]\n",
      "[ 0.30310493 -0.64401468]\n",
      "[ 0.27299484 -0.63847122]\n",
      "[ 0.27341837 -0.65851443]\n",
      "[ 0.27185498 -0.66839442]\n",
      "[ 0.29699835 -0.64475418]\n",
      "[ 0.28733095 -0.67778608]\n",
      "[ 0.28751196 -0.68180968]\n",
      "[ 0.2410619  -0.73327704]\n",
      "[ 0.26067016 -0.73612132]\n",
      "[ 0.27511215 -0.77088397]\n",
      "[ 0.28061268 -0.80078326]\n",
      "[ 0.33009996 -0.78135387]\n",
      "[ 0.39651519 -0.7718222 ]\n",
      "[ 0.41658155 -0.82108136]\n",
      "[ 0.41351174 -0.79626831]\n",
      "[ 0.36668456 -0.80374511]\n",
      "[ 0.42286155 -0.7867255 ]\n",
      "[ 0.4144846  -0.75030921]\n",
      "[ 0.47006837 -0.74557729]\n",
      "[ 0.42198893 -0.76735689]\n",
      "[ 0.41919728 -0.75343864]\n",
      "[ 0.4063676  -0.75846349]\n",
      "[ 0.36511533 -0.78321975]\n",
      "[ 0.36161814 -0.80306328]\n",
      "[ 0.35424258 -0.85440132]\n"
     ]
    }
   ],
   "source": [
    "for x in range(200):\n",
    "    print actor_noise()"
   ]
  },
  {
   "cell_type": "code",
   "execution_count": 6,
   "metadata": {},
   "outputs": [
    {
     "data": {
      "text/plain": [
       "array([ 0.00387038,  0.00550279])"
      ]
     },
     "execution_count": 6,
     "metadata": {},
     "output_type": "execute_result"
    }
   ],
   "source": [
    "actor_noise()/10"
   ]
  },
  {
   "cell_type": "code",
   "execution_count": null,
   "metadata": {},
   "outputs": [],
   "source": []
  },
  {
   "cell_type": "code",
   "execution_count": null,
   "metadata": {},
   "outputs": [],
   "source": []
  }
 ],
 "metadata": {
  "kernelspec": {
   "display_name": "Python 2",
   "language": "python",
   "name": "python2"
  },
  "language_info": {
   "codemirror_mode": {
    "name": "ipython",
    "version": 2
   },
   "file_extension": ".py",
   "mimetype": "text/x-python",
   "name": "python",
   "nbconvert_exporter": "python",
   "pygments_lexer": "ipython2",
   "version": "2.7.15rc1"
  }
 },
 "nbformat": 4,
 "nbformat_minor": 2
}
