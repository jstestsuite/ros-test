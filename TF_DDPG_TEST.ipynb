{
 "cells": [
  {
   "cell_type": "code",
   "execution_count": null,
   "metadata": {},
   "outputs": [],
   "source": [
    "import tensorflow as tf\n",
    "import csv\n",
    "import math\n",
    "from tensorflow import keras\n",
    "\n",
    "\n",
    "\n",
    "# Helper libraries\n",
    "import numpy as np\n",
    "\n",
    "import rospy\n",
    "import os\n",
    "import json\n",
    "import numpy as np\n",
    "import random\n",
    "import time\n",
    "import sys\n",
    "from tensorflow.keras.models import Sequential, load_model\n",
    "from tensorflow.keras.optimizers import RMSprop\n",
    "from tensorflow.keras.layers import Dense, Dropout, Activation\n",
    "from collections import deque"
   ]
  },
  {
   "cell_type": "code",
   "execution_count": null,
   "metadata": {},
   "outputs": [],
   "source": [
    "batch_size = 2\n",
    "train_start = 64\n",
    "memory = deque(maxlen=1000000)\n"
   ]
  },
  {
   "cell_type": "code",
   "execution_count": 1,
   "metadata": {},
   "outputs": [
    {
     "name": "stdout",
     "output_type": "stream",
     "text": [
      "__________________________________________________________________________________________________\n",
      "Layer (type)                    Output Shape         Param #     Connected to                     \n",
      "==================================================================================================\n",
      "main_input (InputLayer)         (None, 14)           0                                            \n",
      "__________________________________________________________________________________________________\n",
      "dense (Dense)                   (None, 512)          7680        main_input[0][0]                 \n",
      "__________________________________________________________________________________________________\n",
      "aux_input (InputLayer)          (None, 2)            0                                            \n",
      "__________________________________________________________________________________________________\n",
      "concatenate (Concatenate)       (None, 514)          0           dense[0][0]                      \n",
      "                                                                 aux_input[0][0]                  \n",
      "__________________________________________________________________________________________________\n",
      "dense_1 (Dense)                 (None, 512)          263680      concatenate[0][0]                \n",
      "__________________________________________________________________________________________________\n",
      "dense_2 (Dense)                 (None, 512)          262656      dense_1[0][0]                    \n",
      "__________________________________________________________________________________________________\n",
      "main_output (Dense)             (None, 1)            513         dense_2[0][0]                    \n",
      "==================================================================================================\n",
      "Total params: 534,529\n",
      "Trainable params: 534,529\n",
      "Non-trainable params: 0\n",
      "__________________________________________________________________________________________________\n"
     ]
    }
   ],
   "source": [
    "\n",
    "from tensorflow import keras\n",
    "from tensorflow.keras.layers import Input, Embedding, LSTM, Dense\n",
    "from tensorflow.keras.models import Model\n",
    "\n",
    "# Headline input: meant to receive sequences of 100 integers, between 1 and 10000.\n",
    "# Note that we can name any layer by passing it a \"name\" argument.\n",
    "state = keras.layers.Input(shape=(14,), name='main_input')\n",
    "\n",
    "# This embedding layer will encode the input sequence\n",
    "# into a sequence of dense 512-dimensional vectors.\n",
    "d1 = Dense(512, activation='relu')(state)\n",
    "#auxiliary_output = keras.layers.Dense(1, activation='sigmoid', name='aux_output')(d1)\n",
    "\n",
    "action = keras.layers.Input(shape=(2,), name='aux_input')\n",
    "x = keras.layers.concatenate([d1, action])\n",
    "\n",
    "x = Dense(512, activation='relu')(x)\n",
    "x = Dense(512, activation='relu')(x)\n",
    "\n",
    "\n",
    "# And finally we add the main logistic regression layer\n",
    "q_val= Dense(1, activation='sigmoid', name='main_output')(x)\n",
    "\n",
    "critic = Model(inputs=[state, action], outputs=[q_val])\n",
    "critic.summary()"
   ]
  },
  {
   "cell_type": "code",
   "execution_count": 2,
   "metadata": {},
   "outputs": [
    {
     "name": "stdout",
     "output_type": "stream",
     "text": [
      "__________________________________________________________________________________________________\n",
      "Layer (type)                    Output Shape         Param #     Connected to                     \n",
      "==================================================================================================\n",
      "main_input (InputLayer)         (None, 14)           0                                            \n",
      "__________________________________________________________________________________________________\n",
      "dense_5 (Dense)                 (None, 512)          7680        main_input[0][0]                 \n",
      "__________________________________________________________________________________________________\n",
      "lin_vel (Dense)                 (None, 1)            513         dense_5[0][0]                    \n",
      "__________________________________________________________________________________________________\n",
      "ang_vel (Dense)                 (None, 1)            513         dense_5[0][0]                    \n",
      "__________________________________________________________________________________________________\n",
      "concatenate_1 (Concatenate)     (None, 2)            0           lin_vel[0][0]                    \n",
      "                                                                 ang_vel[0][0]                    \n",
      "==================================================================================================\n",
      "Total params: 8,706\n",
      "Trainable params: 8,706\n",
      "Non-trainable params: 0\n",
      "__________________________________________________________________________________________________\n"
     ]
    }
   ],
   "source": [
    "\n",
    "\n",
    "state = keras.layers.Input(shape=(14,), name='main_input')\n",
    "\n",
    "# This embedding layer will encode the input sequence\n",
    "# into a sequence of dense 512-dimensional vectors.\n",
    "x = Dense(512, activation='relu')(state)\n",
    "x = Dense(512, activation='relu')(state)\n",
    "x = Dense(512, activation='relu')(state)\n",
    "#auxiliary_output = keras.layers.Dense(1, activation='sigmoid', name='aux_output')(d1)\n",
    "\n",
    "lin_vel = Dense(1, activation='sigmoid', name='lin_vel')(x)\n",
    "ang_vel = Dense(1, activation='tanh', name='ang_vel')(x)\n",
    "output = keras.layers.concatenate([lin_vel, ang_vel])\n",
    "\n",
    "actor = Model(inputs=[state], outputs=[output])\n",
    "actor.summary()\n"
   ]
  },
  {
   "cell_type": "code",
   "execution_count": 3,
   "metadata": {},
   "outputs": [],
   "source": [
    "test = [0,0]"
   ]
  },
  {
   "cell_type": "code",
   "execution_count": null,
   "metadata": {},
   "outputs": [],
   "source": [
    "critic.compile(optimizer=tf.train.AdamOptimizer(), \n",
    "              loss='mse',\n",
    "              metrics=['accuracy'])\n"
   ]
  },
  {
   "cell_type": "code",
   "execution_count": 4,
   "metadata": {
    "scrolled": true
   },
   "outputs": [],
   "source": [
    "#model.fit(ml_in, ml_out, epochs=10)\n",
    "test[0] = 1"
   ]
  },
  {
   "cell_type": "code",
   "execution_count": 5,
   "metadata": {},
   "outputs": [
    {
     "data": {
      "text/plain": [
       "[1, 0]"
      ]
     },
     "execution_count": 5,
     "metadata": {},
     "output_type": "execute_result"
    }
   ],
   "source": [
    "#predictions = model.predict(ml_in)\n",
    "test"
   ]
  },
  {
   "cell_type": "code",
   "execution_count": null,
   "metadata": {},
   "outputs": [],
   "source": [
    "#predictions[0:20]\n",
    "#predictions.shape\n",
    "\n"
   ]
  },
  {
   "cell_type": "code",
   "execution_count": null,
   "metadata": {},
   "outputs": [],
   "source": [
    "\n",
    "\n"
   ]
  },
  {
   "cell_type": "code",
   "execution_count": null,
   "metadata": {},
   "outputs": [],
   "source": [
    "model.summary()\n",
    "#model.save_weights('./src/checkpoints/my_checkpoint')"
   ]
  },
  {
   "cell_type": "code",
   "execution_count": null,
   "metadata": {},
   "outputs": [],
   "source": []
  }
 ],
 "metadata": {
  "kernelspec": {
   "display_name": "Python 2",
   "language": "python",
   "name": "python2"
  },
  "language_info": {
   "codemirror_mode": {
    "name": "ipython",
    "version": 2
   },
   "file_extension": ".py",
   "mimetype": "text/x-python",
   "name": "python",
   "nbconvert_exporter": "python",
   "pygments_lexer": "ipython2",
   "version": "2.7.15rc1"
  }
 },
 "nbformat": 4,
 "nbformat_minor": 2
}
