{
 "cells": [
  {
   "cell_type": "code",
   "execution_count": 1,
   "metadata": {},
   "outputs": [],
   "source": [
    "import tensorflow as tf\n",
    "import csv\n",
    "import math\n",
    "from tensorflow import keras\n",
    "\n",
    "\n",
    "\n",
    "# Helper libraries\n",
    "import numpy as np\n",
    "\n",
    "import rospy\n",
    "import os\n",
    "import json\n",
    "import numpy as np\n",
    "import random\n",
    "import time\n",
    "import sys\n",
    "from tensorflow.keras.models import Sequential, load_model\n",
    "from tensorflow.keras.optimizers import RMSprop\n",
    "from tensorflow.keras.layers import Dense, Dropout, Activation\n",
    "from collections import deque"
   ]
  },
  {
   "cell_type": "code",
   "execution_count": null,
   "metadata": {},
   "outputs": [],
   "source": [
    "batch_size = 2\n",
    "train_start = 64\n",
    "memory = deque(maxlen=1000000)\n"
   ]
  },
  {
   "cell_type": "code",
   "execution_count": null,
   "metadata": {},
   "outputs": [],
   "source": [
    "\n",
    "from tensorflow import keras\n",
    "from tensorflow.keras.layers import Input, Embedding, LSTM, Dense\n",
    "from tensorflow.keras.models import Model\n",
    "\n",
    "# Headline input: meant to receive sequences of 100 integers, between 1 and 10000.\n",
    "# Note that we can name any layer by passing it a \"name\" argument.\n",
    "state = keras.layers.Input(shape=(14,), name='state')\n",
    "\n",
    "# This embedding layer will encode the input sequence\n",
    "# into a sequence of dense 512-dimensional vectors.\n",
    "d1 = Dense(512, activation='relu')(state)\n",
    "#auxiliary_output = keras.layers.Dense(1, activation='sigmoid', name='aux_output')(d1)\n",
    "\n",
    "action = keras.layers.Input(shape=(2,), name='action')\n",
    "x = keras.layers.concatenate([d1, action])\n",
    "\n",
    "x = Dense(512, activation='relu')(x)\n",
    "x = Dense(512, activation='relu')(x)\n",
    "\n",
    "\n",
    "# And finally we add the main logistic regression layer\n",
    "q_val= Dense(1, activation='sigmoid', name='main_output')(x)\n",
    "\n",
    "critic = Model(inputs=[state, action], outputs=[q_val])\n",
    "#critic.summary()"
   ]
  },
  {
   "cell_type": "code",
   "execution_count": null,
   "metadata": {},
   "outputs": [],
   "source": [
    "\n",
    "\n",
    "state = keras.layers.Input(shape=(14,), name='main_input')\n",
    "\n",
    "# This embedding layer will encode the input sequence\n",
    "# into a sequence of dense 512-dimensional vectors.\n",
    "x = Dense(512, activation='relu')(state)\n",
    "x = Dense(512, activation='relu')(state)\n",
    "x = Dense(512, activation='relu')(state)\n",
    "#auxiliary_output = keras.layers.Dense(1, activation='sigmoid', name='aux_output')(d1)\n",
    "\n",
    "lin_vel = Dense(1, activation='sigmoid', name='lin_vel')(x)\n",
    "ang_vel = Dense(1, activation='tanh', name='ang_vel')(x)\n",
    "output = keras.layers.concatenate([lin_vel, ang_vel])\n",
    "\n",
    "actor = Model(inputs=[state], outputs=output)\n",
    "#actor.summary()\n"
   ]
  },
  {
   "cell_type": "code",
   "execution_count": null,
   "metadata": {},
   "outputs": [],
   "source": [
    "import numpy as np"
   ]
  },
  {
   "cell_type": "code",
   "execution_count": null,
   "metadata": {},
   "outputs": [],
   "source": [
    "critic.compile(optimizer=tf.train.AdamOptimizer(), \n",
    "              loss='mse',\n",
    "              metrics=['accuracy'])\n",
    "\n",
    "actor.compile(optimizer=tf.train.AdamOptimizer(), \n",
    "              loss='mse',\n",
    "              metrics=['accuracy'])\n"
   ]
  },
  {
   "cell_type": "code",
   "execution_count": null,
   "metadata": {
    "scrolled": true
   },
   "outputs": [],
   "source": [
    "#model.fit(ml_in, ml_out, epochs=10)\n",
    "test = np.ones(14)\n",
    "test2 = np.ones(2)\n"
   ]
  },
  {
   "cell_type": "code",
   "execution_count": null,
   "metadata": {},
   "outputs": [],
   "source": [
    "#predictions = model.predict(ml_in)\n",
    "blank = actor.predict(test.reshape(1, len(test)))\n",
    "blank2 = critic.predict([test.reshape(1, len(test)), test2.reshape(1,len(test2))])"
   ]
  },
  {
   "cell_type": "code",
   "execution_count": null,
   "metadata": {},
   "outputs": [],
   "source": [
    "#predictions[0:20]\n",
    "#predictions.shape\n",
    "past_action = np.zeros((1,2))\n",
    "print blank.shape\n",
    "past_action.shape"
   ]
  },
  {
   "cell_type": "code",
   "execution_count": null,
   "metadata": {},
   "outputs": [],
   "source": [
    "t = np.empty([0,14])\n",
    "t2 = np.empty([0,2])\n",
    "test = np.ones(14)\n",
    "test2 = np.ones(2)\n",
    "test = test.reshape(1, len(test))\n",
    "test2 = test2.reshape(1, len(test2))\n",
    "print test2.shape\n",
    "print t2.shape\n",
    "t = np.append(t , test, axis = 0)\n",
    "t2 = np.append(t2 , test2, axis = 0)\n",
    "\n",
    "print test.shape\n",
    "print test2.shape"
   ]
  },
  {
   "cell_type": "code",
   "execution_count": null,
   "metadata": {},
   "outputs": [],
   "source": [
    "blank2 = critic.predict([test, test2])\n"
   ]
  },
  {
   "cell_type": "code",
   "execution_count": null,
   "metadata": {},
   "outputs": [],
   "source": [
    "test[0][2] = 3\n",
    "print test.shape\n",
    "print test2.shape"
   ]
  },
  {
   "cell_type": "code",
   "execution_count": null,
   "metadata": {},
   "outputs": [],
   "source": [
    "#sess = tf.Session()\n",
    "action = tf.placeholder(tf.float32, [None, 2])\n",
    "action_2 = tf.placeholder(tf.float32, [None, 2])\n",
    "state = tf.placeholder(tf.float64, [None, 14])\n",
    "\n",
    "#state_1 = tf.placeholder(tf.float32, [None, 14])\n",
    "action_grads = tf.gradients(critic.output, action) #GRADIENTS for policy update\n",
    "#sess.run(tf.global_variables_initializer())\n",
    "\n",
    "\n",
    "\n",
    "\n"
   ]
  },
  {
   "cell_type": "code",
   "execution_count": null,
   "metadata": {},
   "outputs": [],
   "source": [
    "#sess = tf.Session()\n",
    "#sess.run(tf.global_variables_initializer())\n",
    "\n",
    "def grads (model, states, actions):\n",
    "    grad = action_grads, feed_dict={\n",
    "            state: states,\n",
    "            action: actions\n",
    "    }\n",
    "    return grad\n",
    "\n",
    "grads(critic, test, test2)"
   ]
  },
  {
   "cell_type": "code",
   "execution_count": null,
   "metadata": {},
   "outputs": [],
   "source": [
    "#critic.get_weights()\n",
    "with tf.Session() as sess:\n",
    "    print sess.run(action_grads,feed_dict={\n",
    "    state: test, \n",
    "    action: test2})\n",
    "#critic.get_weights()\n",
    "#print temp\n",
    "#sess.close()"
   ]
  },
  {
   "cell_type": "code",
   "execution_count": null,
   "metadata": {},
   "outputs": [],
   "source": [
    "import tensorflow as tf\n",
    "\n",
    "a = tf.placeholder(tf.float32)\n",
    "b = tf.placeholder(tf.float32)\n",
    "c = a+b\n",
    "\n",
    "sess = tf.Session()\n",
    "sess.run(tf.global_variables_initializer())\n",
    "print sess.run(c,feed_dict={a:1.0, b:1.0})\n",
    "sess.close()\n",
    "    "
   ]
  },
  {
   "cell_type": "code",
   "execution_count": null,
   "metadata": {},
   "outputs": [],
   "source": [
    "\n",
    "a = tf.constant(0.)\n",
    "b = 2 * a\n",
    "g = tf.gradients(a + b, [a, b], stop_gradients=[a, b])\n",
    "print g"
   ]
  },
  {
   "cell_type": "code",
   "execution_count": null,
   "metadata": {},
   "outputs": [],
   "source": [
    "actor.output_shape"
   ]
  },
  {
   "cell_type": "code",
   "execution_count": null,
   "metadata": {},
   "outputs": [],
   "source": [
    "memory.append((test, test2))"
   ]
  },
  {
   "cell_type": "code",
   "execution_count": null,
   "metadata": {},
   "outputs": [],
   "source": [
    "len(memory)"
   ]
  },
  {
   "cell_type": "code",
   "execution_count": null,
   "metadata": {},
   "outputs": [],
   "source": [
    "test3 = np.asarray([ 2.76205611,  2.06204796,  1.59506261,  1.24448633,  1.11614728,\n",
    "        1.05906844,  1.12388086,  1.14259541,  1.03247726,  1.01678181,\n",
    "        0.        ,  0.        , -2.42      ,  2.35      ])"
   ]
  },
  {
   "cell_type": "code",
   "execution_count": null,
   "metadata": {},
   "outputs": [],
   "source": [
    "memory.append((test, test2, test3, blank))"
   ]
  },
  {
   "cell_type": "code",
   "execution_count": null,
   "metadata": {},
   "outputs": [],
   "source": [
    "t = np.asarray(memory[0])\n",
    "t2 = np.asarray(memory[2])\n",
    "t3 = np.asarray(memory[3])"
   ]
  },
  {
   "cell_type": "code",
   "execution_count": null,
   "metadata": {},
   "outputs": [],
   "source": [
    "t3 = t3.reshape(1, len(t3))"
   ]
  },
  {
   "cell_type": "code",
   "execution_count": null,
   "metadata": {},
   "outputs": [],
   "source": [
    "memory[1][1]"
   ]
  },
  {
   "cell_type": "code",
   "execution_count": null,
   "metadata": {},
   "outputs": [],
   "source": [
    "l = np.empty(0)"
   ]
  },
  {
   "cell_type": "code",
   "execution_count": null,
   "metadata": {},
   "outputs": [],
   "source": [
    "states = np.empty(([0,14]), dtype=np.float64)\n",
    "print states.shape\n",
    "print np.asarray(memory[1][2]).shape\n",
    "states = np.append(states, np.asarray(memory[1][2]).reshape(1, 14), axis = 0)"
   ]
  },
  {
   "cell_type": "code",
   "execution_count": null,
   "metadata": {},
   "outputs": [],
   "source": [
    "blank2 = np.append(blank2, blank2, axis = 0)\n",
    "print blank2.shape\n",
    "test2 = np.append(test2, test2, axis = 0)\n",
    "print test2.shape\n",
    "test = np.append(test, test, axis = 0)\n",
    "print test.shape\n"
   ]
  },
  {
   "cell_type": "code",
   "execution_count": null,
   "metadata": {},
   "outputs": [],
   "source": [
    "t = []\n",
    "t.append(True)\n",
    "t.append(False)"
   ]
  },
  {
   "cell_type": "code",
   "execution_count": null,
   "metadata": {},
   "outputs": [],
   "source": [
    "loss = 0"
   ]
  },
  {
   "cell_type": "code",
   "execution_count": null,
   "metadata": {},
   "outputs": [],
   "source": [
    "tes= critic.train_on_batch([test, test2], blank2) "
   ]
  },
  {
   "cell_type": "code",
   "execution_count": null,
   "metadata": {},
   "outputs": [],
   "source": [
    "tes"
   ]
  },
  {
   "cell_type": "code",
   "execution_count": null,
   "metadata": {},
   "outputs": [],
   "source": [
    "class OrnsteinUhlenbeckActionNoise:\n",
    "    def __init__(self, mu, sigma=0.3, theta=.15, dt=1e-2, x0=None):\n",
    "        self.theta = theta\n",
    "        self.mu = mu\n",
    "        self.sigma = sigma\n",
    "        self.dt = dt\n",
    "        self.x0 = x0\n",
    "        self.reset()\n",
    "\n",
    "    def __call__(self):\n",
    "        x = self.x_prev + self.theta * (self.mu - self.x_prev) * self.dt + \\\n",
    "                self.sigma * np.sqrt(self.dt) * np.random.normal(size=self.mu.shape)\n",
    "        x[0] = abs(x[0])\n",
    "        self.x_prev = x\n",
    "        return x\n",
    "\n",
    "    def reset(self):\n",
    "        self.x_prev = self.x0 if self.x0 is not None else np.zeros_like(self.mu)\n",
    "\n",
    "    def __repr__(self):\n",
    "        return 'OrnsteinUhlenbeckActionNoise(mu={}, sigma={})'.format(self.mu, self.sigma)"
   ]
  },
  {
   "cell_type": "code",
   "execution_count": null,
   "metadata": {},
   "outputs": [],
   "source": [
    "actor_noise = OrnsteinUhlenbeckActionNoise(mu=np.zeros(2))"
   ]
  },
  {
   "cell_type": "code",
   "execution_count": null,
   "metadata": {},
   "outputs": [],
   "source": [
    "for x in range(200):\n",
    "    print actor_noise()"
   ]
  },
  {
   "cell_type": "code",
   "execution_count": null,
   "metadata": {},
   "outputs": [],
   "source": [
    "actor_noise()/10"
   ]
  },
  {
   "cell_type": "code",
   "execution_count": null,
   "metadata": {},
   "outputs": [],
   "source": []
  },
  {
   "cell_type": "code",
   "execution_count": null,
   "metadata": {},
   "outputs": [],
   "source": []
  }
 ],
 "metadata": {
  "kernelspec": {
   "display_name": "Python 2",
   "language": "python",
   "name": "python2"
  },
  "language_info": {
   "codemirror_mode": {
    "name": "ipython",
    "version": 2
   },
   "file_extension": ".py",
   "mimetype": "text/x-python",
   "name": "python",
   "nbconvert_exporter": "python",
   "pygments_lexer": "ipython2",
   "version": "2.7.15rc1"
  }
 },
 "nbformat": 4,
 "nbformat_minor": 2
}
