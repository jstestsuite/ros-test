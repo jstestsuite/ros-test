{
 "cells": [
  {
   "cell_type": "code",
   "execution_count": 1,
   "metadata": {},
   "outputs": [],
   "source": [
    "###### SET UP FOR CMD_VEL ##########\n",
    "###### Maybe try throttled data so its all at 5 hz?\n",
    "\n",
    "#        http://wiki.ros.org/topic_tools/throttle\n",
    "\n",
    "import tensorflow as tf\n",
    "import csv\n"
   ]
  },
  {
   "cell_type": "code",
   "execution_count": 2,
   "metadata": {},
   "outputs": [],
   "source": [
    "#Ros time stamp = 11 digits with 0-99 seconds 12 digits with 100-999 seconds \n",
    "new_rows = []\n",
    "with open('cmd_vel.csv', 'rb') as f:\n",
    "    reader = csv.reader(f)\n",
    "    nrow = next(reader)\n",
    "   # new_row =  [nrow[0], nrow[2],nrow[8]]\n",
    "    \n",
    "    #new_rows.append(new_row)\n",
    "    \n",
    "    for row in reader:\n",
    "        # row is a list of strings\n",
    "        # use string.join to put them together\n",
    "        \n",
    "        # row 0 = time\n",
    "        # row 2 = linear x\n",
    "        # row 3 = angular z\n",
    "        # make float and subtract start time\n",
    "        new_row =  [(float(row[0])/10**9)-55.551, float(row[2]),float(row[8])]\n",
    "        \n",
    "        new_rows.append(new_row)\n",
    "        \n",
    "       \n",
    "\n"
   ]
  },
  {
   "cell_type": "code",
   "execution_count": 3,
   "metadata": {},
   "outputs": [],
   "source": [
    "with open('test.csv', 'wb') as f:\n",
    "    # Overwrite the old file with the modified rows\n",
    "    writer = csv.writer(f)\n",
    "    writer.writerows(new_rows)\n",
    "\n",
    "\n"
   ]
  },
  {
   "cell_type": "code",
   "execution_count": 4,
   "metadata": {},
   "outputs": [],
   "source": [
    "x = 1\n",
    "count = 0\n",
    "counts = []\n",
    "for row in new_rows:\n",
    "    \n",
    "    if row[0] <x:\n",
    "        count= count +1\n",
    "    else:\n",
    "\n",
    "        counts.append([count,x])\n",
    "        count = 1\n",
    "        x=x+1\n",
    "    #grab first, last, 2nd, 2nd last, 3rd?\n"
   ]
  },
  {
   "cell_type": "code",
   "execution_count": 5,
   "metadata": {},
   "outputs": [],
   "source": [
    "#start at 0, grab all values... until new_rows[x][0] >1\n",
    "#count, just drop odd or something assuming over 5?\n",
    "\n",
    "\n",
    "############ This file is only good for 200 seconds then there is a problem with the data\n",
    "\n"
   ]
  },
  {
   "cell_type": "code",
   "execution_count": 6,
   "metadata": {},
   "outputs": [
    {
     "data": {
      "text/plain": [
       "[1, 201]"
      ]
     },
     "execution_count": 6,
     "metadata": {},
     "output_type": "execute_result"
    }
   ],
   "source": [
    "counts[200]\n",
    "\n"
   ]
  },
  {
   "cell_type": "code",
   "execution_count": 7,
   "metadata": {},
   "outputs": [
    {
     "data": {
      "text/plain": [
       "225.265"
      ]
     },
     "execution_count": 7,
     "metadata": {},
     "output_type": "execute_result"
    }
   ],
   "source": [
    "new_rows[-1][0]"
   ]
  },
  {
   "cell_type": "code",
   "execution_count": 8,
   "metadata": {},
   "outputs": [
    {
     "data": {
      "text/plain": [
       "[9, 3]"
      ]
     },
     "execution_count": 8,
     "metadata": {},
     "output_type": "execute_result"
    }
   ],
   "source": [
    "counts[2]"
   ]
  },
  {
   "cell_type": "code",
   "execution_count": null,
   "metadata": {},
   "outputs": [],
   "source": []
  }
 ],
 "metadata": {
  "kernelspec": {
   "display_name": "Python 2",
   "language": "python",
   "name": "python2"
  },
  "language_info": {
   "codemirror_mode": {
    "name": "ipython",
    "version": 2
   },
   "file_extension": ".py",
   "mimetype": "text/x-python",
   "name": "python",
   "nbconvert_exporter": "python",
   "pygments_lexer": "ipython2",
   "version": "2.7.15rc1"
  }
 },
 "nbformat": 4,
 "nbformat_minor": 2
}
